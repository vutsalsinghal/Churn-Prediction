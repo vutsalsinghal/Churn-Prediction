{
 "cells": [
  {
   "cell_type": "markdown",
   "metadata": {
    "colab_type": "text",
    "id": "p1EKmawb9n5h"
   },
   "source": [
    "# Churn Prediction ([Kaggle](https://www.kaggle.com/c/introduction-to-data-science-nyu-spring-2018/))\n",
    "\n",
    "---\n",
    "\n",
    "- Check Readme for description. "
   ]
  },
  {
   "cell_type": "markdown",
   "metadata": {
    "colab_type": "text",
    "id": "F_pfeMrYVe6G"
   },
   "source": [
    "## Install dependencies"
   ]
  },
  {
   "cell_type": "code",
   "execution_count": 1,
   "metadata": {
    "ExecuteTime": {
     "end_time": "2018-02-21T04:36:44.373405Z",
     "start_time": "2018-02-21T04:36:44.356211Z"
    },
    "colab": {
     "autoexec": {
      "startup": false,
      "wait_interval": 0
     },
     "base_uri": "https://localhost:8080/",
     "height": 287,
     "output_extras": [
      {
       "item_id": 1
      }
     ]
    },
    "colab_type": "code",
    "executionInfo": {
     "elapsed": 244,
     "status": "ok",
     "timestamp": 1518624845909,
     "user": {
      "displayName": "VUTSAL SINGHAL",
      "photoUrl": "//lh4.googleusercontent.com/-ScnscqIwZps/AAAAAAAAAAI/AAAAAAAAAOc/CheZLKQf3Dk/s50-c-k-no/photo.jpg",
      "userId": "102198032967082448236"
     },
     "user_tz": 300
    },
    "id": "1DkpFnSR9n5m",
    "outputId": "07081099-0331-4142-f39e-a09608196846"
   },
   "outputs": [
    {
     "name": "stdout",
     "output_type": "stream",
     "text": [
      "Vutsal Singhal \n",
      "last updated: Wed Feb 21 2018 14:35:59 EST\n",
      "\n",
      "numpy 1.13.3\n",
      "pandas 0.20.3\n",
      "matplotlib 2.1.0\n",
      "sklearn 0.19.0\n",
      "\n",
      "compiler   : GCC 5.4.0 20160609\n",
      "system     : Linux\n",
      "release    : 4.13.0-32-generic\n",
      "machine    : x86_64\n",
      "processor  : x86_64\n",
      "CPU cores  : 8\n",
      "interpreter: 64bit\n"
     ]
    }
   ],
   "source": [
    "#Metadata\n",
    "%load_ext watermark\n",
    "%watermark -a \"Vutsal Singhal\" -p numpy,pandas,matplotlib,sklearn -u -n -t -z -m"
   ]
  },
  {
   "cell_type": "code",
   "execution_count": 4,
   "metadata": {
    "ExecuteTime": {
     "end_time": "2019-03-30T17:11:41.608649Z",
     "start_time": "2019-03-30T17:11:38.472766Z"
    },
    "colab": {
     "autoexec": {
      "startup": false,
      "wait_interval": 0
     }
    },
    "colab_type": "code",
    "id": "LYBBOkbxDfnq"
   },
   "outputs": [],
   "source": [
    "import numpy as np\n",
    "import pandas as pd\n",
    "from matplotlib import pyplot as plt\n",
    "from sklearn.preprocessing import OneHotEncoder\n",
    "from sklearn.model_selection import train_test_split"
   ]
  },
  {
   "cell_type": "code",
   "execution_count": 5,
   "metadata": {
    "ExecuteTime": {
     "end_time": "2019-03-30T17:11:45.225726Z",
     "start_time": "2019-03-30T17:11:45.063742Z"
    },
    "colab": {
     "autoexec": {
      "startup": false,
      "wait_interval": 0
     }
    },
    "colab_type": "code",
    "id": "3JMvOJcpFJJk"
   },
   "outputs": [],
   "source": [
    "df = pd.read_csv('data/train.csv')"
   ]
  },
  {
   "cell_type": "code",
   "execution_count": 6,
   "metadata": {
    "ExecuteTime": {
     "end_time": "2019-03-30T17:11:46.245514Z",
     "start_time": "2019-03-30T17:11:46.214350Z"
    },
    "colab": {
     "autoexec": {
      "startup": false,
      "wait_interval": 0
     },
     "base_uri": "https://localhost:8080/",
     "height": 204,
     "output_extras": [
      {
       "item_id": 1
      }
     ]
    },
    "colab_type": "code",
    "executionInfo": {
     "elapsed": 485,
     "status": "ok",
     "timestamp": 1518626585020,
     "user": {
      "displayName": "VUTSAL SINGHAL",
      "photoUrl": "//lh4.googleusercontent.com/-ScnscqIwZps/AAAAAAAAAAI/AAAAAAAAAOc/CheZLKQf3Dk/s50-c-k-no/photo.jpg",
      "userId": "102198032967082448236"
     },
     "user_tz": 300
    },
    "id": "IUYIVapQ9n6K",
    "outputId": "3e01c693-4b19-432f-e2c2-97122780aa5e"
   },
   "outputs": [
    {
     "data": {
      "text/html": [
       "<div>\n",
       "<style scoped>\n",
       "    .dataframe tbody tr th:only-of-type {\n",
       "        vertical-align: middle;\n",
       "    }\n",
       "\n",
       "    .dataframe tbody tr th {\n",
       "        vertical-align: top;\n",
       "    }\n",
       "\n",
       "    .dataframe thead th {\n",
       "        text-align: right;\n",
       "    }\n",
       "</style>\n",
       "<table border=\"1\" class=\"dataframe\">\n",
       "  <thead>\n",
       "    <tr style=\"text-align: right;\">\n",
       "      <th></th>\n",
       "      <th>COLLEGE</th>\n",
       "      <th>INCOME</th>\n",
       "      <th>OVERAGE</th>\n",
       "      <th>LEFTOVER</th>\n",
       "      <th>HOUSE</th>\n",
       "      <th>HANDSET_PRICE</th>\n",
       "      <th>OVER_15MINS_CALLS_PER_MONTH</th>\n",
       "      <th>AVERAGE_CALL_DURATION</th>\n",
       "      <th>REPORTED_SATISFACTION</th>\n",
       "      <th>REPORTED_USAGE_LEVEL</th>\n",
       "      <th>CONSIDERING_CHANGE_OF_PLAN</th>\n",
       "      <th>LEAVE</th>\n",
       "    </tr>\n",
       "  </thead>\n",
       "  <tbody>\n",
       "    <tr>\n",
       "      <th>0</th>\n",
       "      <td>zero</td>\n",
       "      <td>31953</td>\n",
       "      <td>0</td>\n",
       "      <td>6</td>\n",
       "      <td>313378</td>\n",
       "      <td>161</td>\n",
       "      <td>0</td>\n",
       "      <td>4</td>\n",
       "      <td>unsat</td>\n",
       "      <td>little</td>\n",
       "      <td>no</td>\n",
       "      <td>1</td>\n",
       "    </tr>\n",
       "    <tr>\n",
       "      <th>1</th>\n",
       "      <td>one</td>\n",
       "      <td>36147</td>\n",
       "      <td>0</td>\n",
       "      <td>13</td>\n",
       "      <td>800586</td>\n",
       "      <td>244</td>\n",
       "      <td>0</td>\n",
       "      <td>6</td>\n",
       "      <td>unsat</td>\n",
       "      <td>little</td>\n",
       "      <td>considering</td>\n",
       "      <td>1</td>\n",
       "    </tr>\n",
       "    <tr>\n",
       "      <th>2</th>\n",
       "      <td>one</td>\n",
       "      <td>27273</td>\n",
       "      <td>230</td>\n",
       "      <td>0</td>\n",
       "      <td>305049</td>\n",
       "      <td>201</td>\n",
       "      <td>16</td>\n",
       "      <td>15</td>\n",
       "      <td>unsat</td>\n",
       "      <td>very_little</td>\n",
       "      <td>perhaps</td>\n",
       "      <td>1</td>\n",
       "    </tr>\n",
       "    <tr>\n",
       "      <th>3</th>\n",
       "      <td>zero</td>\n",
       "      <td>120070</td>\n",
       "      <td>38</td>\n",
       "      <td>33</td>\n",
       "      <td>788235</td>\n",
       "      <td>780</td>\n",
       "      <td>3</td>\n",
       "      <td>2</td>\n",
       "      <td>unsat</td>\n",
       "      <td>very_high</td>\n",
       "      <td>considering</td>\n",
       "      <td>0</td>\n",
       "    </tr>\n",
       "    <tr>\n",
       "      <th>4</th>\n",
       "      <td>one</td>\n",
       "      <td>29215</td>\n",
       "      <td>208</td>\n",
       "      <td>85</td>\n",
       "      <td>224784</td>\n",
       "      <td>241</td>\n",
       "      <td>21</td>\n",
       "      <td>1</td>\n",
       "      <td>very_unsat</td>\n",
       "      <td>little</td>\n",
       "      <td>never_thought</td>\n",
       "      <td>1</td>\n",
       "    </tr>\n",
       "  </tbody>\n",
       "</table>\n",
       "</div>"
      ],
      "text/plain": [
       "  COLLEGE  INCOME  OVERAGE  LEFTOVER   HOUSE  HANDSET_PRICE  \\\n",
       "0    zero   31953        0         6  313378            161   \n",
       "1     one   36147        0        13  800586            244   \n",
       "2     one   27273      230         0  305049            201   \n",
       "3    zero  120070       38        33  788235            780   \n",
       "4     one   29215      208        85  224784            241   \n",
       "\n",
       "   OVER_15MINS_CALLS_PER_MONTH  AVERAGE_CALL_DURATION REPORTED_SATISFACTION  \\\n",
       "0                            0                      4                 unsat   \n",
       "1                            0                      6                 unsat   \n",
       "2                           16                     15                 unsat   \n",
       "3                            3                      2                 unsat   \n",
       "4                           21                      1            very_unsat   \n",
       "\n",
       "  REPORTED_USAGE_LEVEL CONSIDERING_CHANGE_OF_PLAN  LEAVE  \n",
       "0               little                         no      1  \n",
       "1               little                considering      1  \n",
       "2          very_little                    perhaps      1  \n",
       "3            very_high                considering      0  \n",
       "4               little              never_thought      1  "
      ]
     },
     "execution_count": 6,
     "metadata": {},
     "output_type": "execute_result"
    }
   ],
   "source": [
    "df.head()"
   ]
  },
  {
   "cell_type": "code",
   "execution_count": 7,
   "metadata": {
    "ExecuteTime": {
     "end_time": "2019-03-30T17:11:48.249336Z",
     "start_time": "2019-03-30T17:11:48.180587Z"
    },
    "colab": {
     "autoexec": {
      "startup": false,
      "wait_interval": 0
     },
     "base_uri": "https://localhost:8080/",
     "height": 297,
     "output_extras": [
      {
       "item_id": 1
      }
     ]
    },
    "colab_type": "code",
    "executionInfo": {
     "elapsed": 803,
     "status": "ok",
     "timestamp": 1518626588849,
     "user": {
      "displayName": "VUTSAL SINGHAL",
      "photoUrl": "//lh4.googleusercontent.com/-ScnscqIwZps/AAAAAAAAAAI/AAAAAAAAAOc/CheZLKQf3Dk/s50-c-k-no/photo.jpg",
      "userId": "102198032967082448236"
     },
     "user_tz": 300
    },
    "id": "AMbEyNa9MCJx",
    "outputId": "28ebfa0a-6256-4360-c069-9e42278d7910"
   },
   "outputs": [
    {
     "data": {
      "text/html": [
       "<div>\n",
       "<style scoped>\n",
       "    .dataframe tbody tr th:only-of-type {\n",
       "        vertical-align: middle;\n",
       "    }\n",
       "\n",
       "    .dataframe tbody tr th {\n",
       "        vertical-align: top;\n",
       "    }\n",
       "\n",
       "    .dataframe thead th {\n",
       "        text-align: right;\n",
       "    }\n",
       "</style>\n",
       "<table border=\"1\" class=\"dataframe\">\n",
       "  <thead>\n",
       "    <tr style=\"text-align: right;\">\n",
       "      <th></th>\n",
       "      <th>count</th>\n",
       "      <th>mean</th>\n",
       "      <th>std</th>\n",
       "      <th>min</th>\n",
       "      <th>25%</th>\n",
       "      <th>50%</th>\n",
       "      <th>75%</th>\n",
       "      <th>max</th>\n",
       "    </tr>\n",
       "  </thead>\n",
       "  <tbody>\n",
       "    <tr>\n",
       "      <th>INCOME</th>\n",
       "      <td>18000.0</td>\n",
       "      <td>80351.592000</td>\n",
       "      <td>41708.768449</td>\n",
       "      <td>20007.0</td>\n",
       "      <td>42253.00</td>\n",
       "      <td>75270.5</td>\n",
       "      <td>116209.25</td>\n",
       "      <td>159983.0</td>\n",
       "    </tr>\n",
       "    <tr>\n",
       "      <th>OVERAGE</th>\n",
       "      <td>18000.0</td>\n",
       "      <td>86.066111</td>\n",
       "      <td>86.028338</td>\n",
       "      <td>-2.0</td>\n",
       "      <td>0.00</td>\n",
       "      <td>59.0</td>\n",
       "      <td>179.00</td>\n",
       "      <td>335.0</td>\n",
       "    </tr>\n",
       "    <tr>\n",
       "      <th>LEFTOVER</th>\n",
       "      <td>18000.0</td>\n",
       "      <td>23.853889</td>\n",
       "      <td>26.824476</td>\n",
       "      <td>0.0</td>\n",
       "      <td>0.00</td>\n",
       "      <td>14.0</td>\n",
       "      <td>41.00</td>\n",
       "      <td>89.0</td>\n",
       "    </tr>\n",
       "    <tr>\n",
       "      <th>HOUSE</th>\n",
       "      <td>18000.0</td>\n",
       "      <td>492312.417389</td>\n",
       "      <td>252089.803831</td>\n",
       "      <td>150002.0</td>\n",
       "      <td>262920.75</td>\n",
       "      <td>451299.0</td>\n",
       "      <td>701615.75</td>\n",
       "      <td>999996.0</td>\n",
       "    </tr>\n",
       "    <tr>\n",
       "      <th>HANDSET_PRICE</th>\n",
       "      <td>18000.0</td>\n",
       "      <td>390.519722</td>\n",
       "      <td>214.008683</td>\n",
       "      <td>130.0</td>\n",
       "      <td>220.00</td>\n",
       "      <td>327.0</td>\n",
       "      <td>535.25</td>\n",
       "      <td>899.0</td>\n",
       "    </tr>\n",
       "    <tr>\n",
       "      <th>OVER_15MINS_CALLS_PER_MONTH</th>\n",
       "      <td>18000.0</td>\n",
       "      <td>7.990333</td>\n",
       "      <td>8.919965</td>\n",
       "      <td>0.0</td>\n",
       "      <td>1.00</td>\n",
       "      <td>4.0</td>\n",
       "      <td>15.00</td>\n",
       "      <td>29.0</td>\n",
       "    </tr>\n",
       "    <tr>\n",
       "      <th>AVERAGE_CALL_DURATION</th>\n",
       "      <td>18000.0</td>\n",
       "      <td>6.008944</td>\n",
       "      <td>4.404612</td>\n",
       "      <td>1.0</td>\n",
       "      <td>2.00</td>\n",
       "      <td>5.0</td>\n",
       "      <td>10.00</td>\n",
       "      <td>15.0</td>\n",
       "    </tr>\n",
       "    <tr>\n",
       "      <th>LEAVE</th>\n",
       "      <td>18000.0</td>\n",
       "      <td>0.507389</td>\n",
       "      <td>0.499959</td>\n",
       "      <td>0.0</td>\n",
       "      <td>0.00</td>\n",
       "      <td>1.0</td>\n",
       "      <td>1.00</td>\n",
       "      <td>1.0</td>\n",
       "    </tr>\n",
       "  </tbody>\n",
       "</table>\n",
       "</div>"
      ],
      "text/plain": [
       "                               count           mean            std       min  \\\n",
       "INCOME                       18000.0   80351.592000   41708.768449   20007.0   \n",
       "OVERAGE                      18000.0      86.066111      86.028338      -2.0   \n",
       "LEFTOVER                     18000.0      23.853889      26.824476       0.0   \n",
       "HOUSE                        18000.0  492312.417389  252089.803831  150002.0   \n",
       "HANDSET_PRICE                18000.0     390.519722     214.008683     130.0   \n",
       "OVER_15MINS_CALLS_PER_MONTH  18000.0       7.990333       8.919965       0.0   \n",
       "AVERAGE_CALL_DURATION        18000.0       6.008944       4.404612       1.0   \n",
       "LEAVE                        18000.0       0.507389       0.499959       0.0   \n",
       "\n",
       "                                   25%       50%        75%       max  \n",
       "INCOME                        42253.00   75270.5  116209.25  159983.0  \n",
       "OVERAGE                           0.00      59.0     179.00     335.0  \n",
       "LEFTOVER                          0.00      14.0      41.00      89.0  \n",
       "HOUSE                        262920.75  451299.0  701615.75  999996.0  \n",
       "HANDSET_PRICE                   220.00     327.0     535.25     899.0  \n",
       "OVER_15MINS_CALLS_PER_MONTH       1.00       4.0      15.00      29.0  \n",
       "AVERAGE_CALL_DURATION             2.00       5.0      10.00      15.0  \n",
       "LEAVE                             0.00       1.0       1.00       1.0  "
      ]
     },
     "execution_count": 7,
     "metadata": {},
     "output_type": "execute_result"
    }
   ],
   "source": [
    "df.describe().T"
   ]
  },
  {
   "cell_type": "markdown",
   "metadata": {},
   "source": [
    "## Label encoding nominal fields"
   ]
  },
  {
   "cell_type": "code",
   "execution_count": 8,
   "metadata": {
    "ExecuteTime": {
     "end_time": "2019-03-30T17:11:53.266166Z",
     "start_time": "2019-03-30T17:11:53.259795Z"
    },
    "colab": {
     "autoexec": {
      "startup": false,
      "wait_interval": 0
     }
    },
    "colab_type": "code",
    "id": "OP_cYaS59n6S"
   },
   "outputs": [],
   "source": [
    "mapCOLLEGE                    = {label:idx for idx,label in enumerate(['zero','one'])}\n",
    "mapREPORTED_SATISFACTION      = {label:idx for idx,label in enumerate(['very_sat', 'sat', 'avg', 'unsat', 'very_unsat'])}\n",
    "mapREPORTED_USAGE_LEVEL       = {label:idx for idx,label in enumerate(['very_high','high','avg', 'little','very_little'])}\n",
    "mapCONSIDERING_CHANGE_OF_PLAN = {label:idx for idx,label in enumerate(['never_thought', 'no', 'considering', 'perhaps', 'actively_looking_into_it'])}"
   ]
  },
  {
   "cell_type": "code",
   "execution_count": 9,
   "metadata": {
    "ExecuteTime": {
     "end_time": "2019-03-30T17:12:02.122135Z",
     "start_time": "2019-03-30T17:12:02.048923Z"
    },
    "colab": {
     "autoexec": {
      "startup": false,
      "wait_interval": 0
     }
    },
    "colab_type": "code",
    "id": "71Bs5kYU9n6X"
   },
   "outputs": [],
   "source": [
    "df['COLLEGE']                    = df['COLLEGE'].map(mapCOLLEGE)\n",
    "df['REPORTED_SATISFACTION']      = df['REPORTED_SATISFACTION'].map(mapREPORTED_SATISFACTION)\n",
    "df['REPORTED_USAGE_LEVEL']       = df['REPORTED_USAGE_LEVEL'].map(mapREPORTED_USAGE_LEVEL)\n",
    "df['CONSIDERING_CHANGE_OF_PLAN'] = df['CONSIDERING_CHANGE_OF_PLAN'].map(mapCONSIDERING_CHANGE_OF_PLAN)"
   ]
  },
  {
   "cell_type": "code",
   "execution_count": 10,
   "metadata": {
    "ExecuteTime": {
     "end_time": "2019-03-30T17:12:03.174917Z",
     "start_time": "2019-03-30T17:12:03.123238Z"
    },
    "colab": {
     "autoexec": {
      "startup": false,
      "wait_interval": 0
     },
     "base_uri": "https://localhost:8080/",
     "height": 317,
     "output_extras": [
      {
       "item_id": 1
      }
     ]
    },
    "colab_type": "code",
    "executionInfo": {
     "elapsed": 298,
     "status": "ok",
     "timestamp": 1518626610055,
     "user": {
      "displayName": "VUTSAL SINGHAL",
      "photoUrl": "//lh4.googleusercontent.com/-ScnscqIwZps/AAAAAAAAAAI/AAAAAAAAAOc/CheZLKQf3Dk/s50-c-k-no/photo.jpg",
      "userId": "102198032967082448236"
     },
     "user_tz": 300
    },
    "id": "5yHwyiz0Mg1n",
    "outputId": "0cf31294-e40e-4654-dd03-a33144184487"
   },
   "outputs": [
    {
     "data": {
      "text/html": [
       "<div>\n",
       "<style scoped>\n",
       "    .dataframe tbody tr th:only-of-type {\n",
       "        vertical-align: middle;\n",
       "    }\n",
       "\n",
       "    .dataframe tbody tr th {\n",
       "        vertical-align: top;\n",
       "    }\n",
       "\n",
       "    .dataframe thead th {\n",
       "        text-align: right;\n",
       "    }\n",
       "</style>\n",
       "<table border=\"1\" class=\"dataframe\">\n",
       "  <thead>\n",
       "    <tr style=\"text-align: right;\">\n",
       "      <th></th>\n",
       "      <th>count</th>\n",
       "      <th>mean</th>\n",
       "      <th>std</th>\n",
       "      <th>min</th>\n",
       "      <th>25%</th>\n",
       "      <th>50%</th>\n",
       "      <th>75%</th>\n",
       "      <th>max</th>\n",
       "    </tr>\n",
       "  </thead>\n",
       "  <tbody>\n",
       "    <tr>\n",
       "      <th>COLLEGE</th>\n",
       "      <td>18000.0</td>\n",
       "      <td>0.503389</td>\n",
       "      <td>0.500002</td>\n",
       "      <td>0.0</td>\n",
       "      <td>0.00</td>\n",
       "      <td>1.0</td>\n",
       "      <td>1.00</td>\n",
       "      <td>1.0</td>\n",
       "    </tr>\n",
       "    <tr>\n",
       "      <th>INCOME</th>\n",
       "      <td>18000.0</td>\n",
       "      <td>80351.592000</td>\n",
       "      <td>41708.768449</td>\n",
       "      <td>20007.0</td>\n",
       "      <td>42253.00</td>\n",
       "      <td>75270.5</td>\n",
       "      <td>116209.25</td>\n",
       "      <td>159983.0</td>\n",
       "    </tr>\n",
       "    <tr>\n",
       "      <th>OVERAGE</th>\n",
       "      <td>18000.0</td>\n",
       "      <td>86.066111</td>\n",
       "      <td>86.028338</td>\n",
       "      <td>-2.0</td>\n",
       "      <td>0.00</td>\n",
       "      <td>59.0</td>\n",
       "      <td>179.00</td>\n",
       "      <td>335.0</td>\n",
       "    </tr>\n",
       "    <tr>\n",
       "      <th>LEFTOVER</th>\n",
       "      <td>18000.0</td>\n",
       "      <td>23.853889</td>\n",
       "      <td>26.824476</td>\n",
       "      <td>0.0</td>\n",
       "      <td>0.00</td>\n",
       "      <td>14.0</td>\n",
       "      <td>41.00</td>\n",
       "      <td>89.0</td>\n",
       "    </tr>\n",
       "    <tr>\n",
       "      <th>HOUSE</th>\n",
       "      <td>18000.0</td>\n",
       "      <td>492312.417389</td>\n",
       "      <td>252089.803831</td>\n",
       "      <td>150002.0</td>\n",
       "      <td>262920.75</td>\n",
       "      <td>451299.0</td>\n",
       "      <td>701615.75</td>\n",
       "      <td>999996.0</td>\n",
       "    </tr>\n",
       "    <tr>\n",
       "      <th>HANDSET_PRICE</th>\n",
       "      <td>18000.0</td>\n",
       "      <td>390.519722</td>\n",
       "      <td>214.008683</td>\n",
       "      <td>130.0</td>\n",
       "      <td>220.00</td>\n",
       "      <td>327.0</td>\n",
       "      <td>535.25</td>\n",
       "      <td>899.0</td>\n",
       "    </tr>\n",
       "    <tr>\n",
       "      <th>OVER_15MINS_CALLS_PER_MONTH</th>\n",
       "      <td>18000.0</td>\n",
       "      <td>7.990333</td>\n",
       "      <td>8.919965</td>\n",
       "      <td>0.0</td>\n",
       "      <td>1.00</td>\n",
       "      <td>4.0</td>\n",
       "      <td>15.00</td>\n",
       "      <td>29.0</td>\n",
       "    </tr>\n",
       "    <tr>\n",
       "      <th>AVERAGE_CALL_DURATION</th>\n",
       "      <td>18000.0</td>\n",
       "      <td>6.008944</td>\n",
       "      <td>4.404612</td>\n",
       "      <td>1.0</td>\n",
       "      <td>2.00</td>\n",
       "      <td>5.0</td>\n",
       "      <td>10.00</td>\n",
       "      <td>15.0</td>\n",
       "    </tr>\n",
       "    <tr>\n",
       "      <th>REPORTED_SATISFACTION</th>\n",
       "      <td>18000.0</td>\n",
       "      <td>2.437111</td>\n",
       "      <td>1.630942</td>\n",
       "      <td>0.0</td>\n",
       "      <td>0.00</td>\n",
       "      <td>3.0</td>\n",
       "      <td>4.00</td>\n",
       "      <td>4.0</td>\n",
       "    </tr>\n",
       "    <tr>\n",
       "      <th>REPORTED_USAGE_LEVEL</th>\n",
       "      <td>18000.0</td>\n",
       "      <td>2.183500</td>\n",
       "      <td>1.513260</td>\n",
       "      <td>0.0</td>\n",
       "      <td>0.00</td>\n",
       "      <td>3.0</td>\n",
       "      <td>3.00</td>\n",
       "      <td>4.0</td>\n",
       "    </tr>\n",
       "    <tr>\n",
       "      <th>CONSIDERING_CHANGE_OF_PLAN</th>\n",
       "      <td>18000.0</td>\n",
       "      <td>2.147056</td>\n",
       "      <td>1.277354</td>\n",
       "      <td>0.0</td>\n",
       "      <td>1.00</td>\n",
       "      <td>2.0</td>\n",
       "      <td>3.00</td>\n",
       "      <td>4.0</td>\n",
       "    </tr>\n",
       "    <tr>\n",
       "      <th>LEAVE</th>\n",
       "      <td>18000.0</td>\n",
       "      <td>0.507389</td>\n",
       "      <td>0.499959</td>\n",
       "      <td>0.0</td>\n",
       "      <td>0.00</td>\n",
       "      <td>1.0</td>\n",
       "      <td>1.00</td>\n",
       "      <td>1.0</td>\n",
       "    </tr>\n",
       "  </tbody>\n",
       "</table>\n",
       "</div>"
      ],
      "text/plain": [
       "                               count           mean            std       min  \\\n",
       "COLLEGE                      18000.0       0.503389       0.500002       0.0   \n",
       "INCOME                       18000.0   80351.592000   41708.768449   20007.0   \n",
       "OVERAGE                      18000.0      86.066111      86.028338      -2.0   \n",
       "LEFTOVER                     18000.0      23.853889      26.824476       0.0   \n",
       "HOUSE                        18000.0  492312.417389  252089.803831  150002.0   \n",
       "HANDSET_PRICE                18000.0     390.519722     214.008683     130.0   \n",
       "OVER_15MINS_CALLS_PER_MONTH  18000.0       7.990333       8.919965       0.0   \n",
       "AVERAGE_CALL_DURATION        18000.0       6.008944       4.404612       1.0   \n",
       "REPORTED_SATISFACTION        18000.0       2.437111       1.630942       0.0   \n",
       "REPORTED_USAGE_LEVEL         18000.0       2.183500       1.513260       0.0   \n",
       "CONSIDERING_CHANGE_OF_PLAN   18000.0       2.147056       1.277354       0.0   \n",
       "LEAVE                        18000.0       0.507389       0.499959       0.0   \n",
       "\n",
       "                                   25%       50%        75%       max  \n",
       "COLLEGE                           0.00       1.0       1.00       1.0  \n",
       "INCOME                        42253.00   75270.5  116209.25  159983.0  \n",
       "OVERAGE                           0.00      59.0     179.00     335.0  \n",
       "LEFTOVER                          0.00      14.0      41.00      89.0  \n",
       "HOUSE                        262920.75  451299.0  701615.75  999996.0  \n",
       "HANDSET_PRICE                   220.00     327.0     535.25     899.0  \n",
       "OVER_15MINS_CALLS_PER_MONTH       1.00       4.0      15.00      29.0  \n",
       "AVERAGE_CALL_DURATION             2.00       5.0      10.00      15.0  \n",
       "REPORTED_SATISFACTION             0.00       3.0       4.00       4.0  \n",
       "REPORTED_USAGE_LEVEL              0.00       3.0       3.00       4.0  \n",
       "CONSIDERING_CHANGE_OF_PLAN        1.00       2.0       3.00       4.0  \n",
       "LEAVE                             0.00       1.0       1.00       1.0  "
      ]
     },
     "execution_count": 10,
     "metadata": {},
     "output_type": "execute_result"
    }
   ],
   "source": [
    "df.describe().T"
   ]
  },
  {
   "cell_type": "code",
   "execution_count": 11,
   "metadata": {
    "ExecuteTime": {
     "end_time": "2019-03-30T17:12:12.070348Z",
     "start_time": "2019-03-30T17:12:12.009803Z"
    }
   },
   "outputs": [
    {
     "data": {
      "text/html": [
       "<div>\n",
       "<style scoped>\n",
       "    .dataframe tbody tr th:only-of-type {\n",
       "        vertical-align: middle;\n",
       "    }\n",
       "\n",
       "    .dataframe tbody tr th {\n",
       "        vertical-align: top;\n",
       "    }\n",
       "\n",
       "    .dataframe thead th {\n",
       "        text-align: right;\n",
       "    }\n",
       "</style>\n",
       "<table border=\"1\" class=\"dataframe\">\n",
       "  <thead>\n",
       "    <tr style=\"text-align: right;\">\n",
       "      <th></th>\n",
       "      <th>COLLEGE</th>\n",
       "      <th>INCOME</th>\n",
       "      <th>OVERAGE</th>\n",
       "      <th>LEFTOVER</th>\n",
       "      <th>HOUSE</th>\n",
       "      <th>HANDSET_PRICE</th>\n",
       "      <th>OVER_15MINS_CALLS_PER_MONTH</th>\n",
       "      <th>AVERAGE_CALL_DURATION</th>\n",
       "      <th>REPORTED_SATISFACTION</th>\n",
       "      <th>REPORTED_USAGE_LEVEL</th>\n",
       "      <th>CONSIDERING_CHANGE_OF_PLAN</th>\n",
       "      <th>LEAVE</th>\n",
       "    </tr>\n",
       "  </thead>\n",
       "  <tbody>\n",
       "    <tr>\n",
       "      <th>COLLEGE</th>\n",
       "      <td>1.000000</td>\n",
       "      <td>0.013834</td>\n",
       "      <td>-0.001998</td>\n",
       "      <td>-0.004238</td>\n",
       "      <td>-0.004234</td>\n",
       "      <td>0.012381</td>\n",
       "      <td>-0.009086</td>\n",
       "      <td>-0.002171</td>\n",
       "      <td>-0.007199</td>\n",
       "      <td>-0.000345</td>\n",
       "      <td>-0.013002</td>\n",
       "      <td>-0.015436</td>\n",
       "    </tr>\n",
       "    <tr>\n",
       "      <th>INCOME</th>\n",
       "      <td>0.013834</td>\n",
       "      <td>1.000000</td>\n",
       "      <td>0.002628</td>\n",
       "      <td>0.006930</td>\n",
       "      <td>-0.009309</td>\n",
       "      <td>0.725662</td>\n",
       "      <td>0.004128</td>\n",
       "      <td>-0.005496</td>\n",
       "      <td>-0.002529</td>\n",
       "      <td>-0.002913</td>\n",
       "      <td>0.000281</td>\n",
       "      <td>-0.097832</td>\n",
       "    </tr>\n",
       "    <tr>\n",
       "      <th>OVERAGE</th>\n",
       "      <td>-0.001998</td>\n",
       "      <td>0.002628</td>\n",
       "      <td>1.000000</td>\n",
       "      <td>-0.003809</td>\n",
       "      <td>0.001570</td>\n",
       "      <td>0.003689</td>\n",
       "      <td>0.771036</td>\n",
       "      <td>0.002241</td>\n",
       "      <td>0.022151</td>\n",
       "      <td>0.002432</td>\n",
       "      <td>0.011492</td>\n",
       "      <td>-0.232061</td>\n",
       "    </tr>\n",
       "    <tr>\n",
       "      <th>LEFTOVER</th>\n",
       "      <td>-0.004238</td>\n",
       "      <td>0.006930</td>\n",
       "      <td>-0.003809</td>\n",
       "      <td>1.000000</td>\n",
       "      <td>0.006328</td>\n",
       "      <td>0.003942</td>\n",
       "      <td>-0.010942</td>\n",
       "      <td>-0.658231</td>\n",
       "      <td>-0.004944</td>\n",
       "      <td>0.008600</td>\n",
       "      <td>0.012016</td>\n",
       "      <td>-0.060279</td>\n",
       "    </tr>\n",
       "    <tr>\n",
       "      <th>HOUSE</th>\n",
       "      <td>-0.004234</td>\n",
       "      <td>-0.009309</td>\n",
       "      <td>0.001570</td>\n",
       "      <td>0.006328</td>\n",
       "      <td>1.000000</td>\n",
       "      <td>-0.007647</td>\n",
       "      <td>0.005354</td>\n",
       "      <td>-0.010259</td>\n",
       "      <td>0.003954</td>\n",
       "      <td>-0.008636</td>\n",
       "      <td>-0.009324</td>\n",
       "      <td>0.210863</td>\n",
       "    </tr>\n",
       "    <tr>\n",
       "      <th>HANDSET_PRICE</th>\n",
       "      <td>0.012381</td>\n",
       "      <td>0.725662</td>\n",
       "      <td>0.003689</td>\n",
       "      <td>0.003942</td>\n",
       "      <td>-0.007647</td>\n",
       "      <td>1.000000</td>\n",
       "      <td>0.005041</td>\n",
       "      <td>-0.005146</td>\n",
       "      <td>-0.007521</td>\n",
       "      <td>0.001996</td>\n",
       "      <td>0.000030</td>\n",
       "      <td>-0.091972</td>\n",
       "    </tr>\n",
       "    <tr>\n",
       "      <th>OVER_15MINS_CALLS_PER_MONTH</th>\n",
       "      <td>-0.009086</td>\n",
       "      <td>0.004128</td>\n",
       "      <td>0.771036</td>\n",
       "      <td>-0.010942</td>\n",
       "      <td>0.005354</td>\n",
       "      <td>0.005041</td>\n",
       "      <td>1.000000</td>\n",
       "      <td>0.009526</td>\n",
       "      <td>0.017457</td>\n",
       "      <td>-0.002128</td>\n",
       "      <td>0.009097</td>\n",
       "      <td>-0.198505</td>\n",
       "    </tr>\n",
       "    <tr>\n",
       "      <th>AVERAGE_CALL_DURATION</th>\n",
       "      <td>-0.002171</td>\n",
       "      <td>-0.005496</td>\n",
       "      <td>0.002241</td>\n",
       "      <td>-0.658231</td>\n",
       "      <td>-0.010259</td>\n",
       "      <td>-0.005146</td>\n",
       "      <td>0.009526</td>\n",
       "      <td>1.000000</td>\n",
       "      <td>0.000856</td>\n",
       "      <td>-0.011424</td>\n",
       "      <td>-0.007097</td>\n",
       "      <td>0.006744</td>\n",
       "    </tr>\n",
       "    <tr>\n",
       "      <th>REPORTED_SATISFACTION</th>\n",
       "      <td>-0.007199</td>\n",
       "      <td>-0.002529</td>\n",
       "      <td>0.022151</td>\n",
       "      <td>-0.004944</td>\n",
       "      <td>0.003954</td>\n",
       "      <td>-0.007521</td>\n",
       "      <td>0.017457</td>\n",
       "      <td>0.000856</td>\n",
       "      <td>1.000000</td>\n",
       "      <td>0.000208</td>\n",
       "      <td>0.008266</td>\n",
       "      <td>-0.010298</td>\n",
       "    </tr>\n",
       "    <tr>\n",
       "      <th>REPORTED_USAGE_LEVEL</th>\n",
       "      <td>-0.000345</td>\n",
       "      <td>-0.002913</td>\n",
       "      <td>0.002432</td>\n",
       "      <td>0.008600</td>\n",
       "      <td>-0.008636</td>\n",
       "      <td>0.001996</td>\n",
       "      <td>-0.002128</td>\n",
       "      <td>-0.011424</td>\n",
       "      <td>0.000208</td>\n",
       "      <td>1.000000</td>\n",
       "      <td>0.008889</td>\n",
       "      <td>-0.002196</td>\n",
       "    </tr>\n",
       "    <tr>\n",
       "      <th>CONSIDERING_CHANGE_OF_PLAN</th>\n",
       "      <td>-0.013002</td>\n",
       "      <td>0.000281</td>\n",
       "      <td>0.011492</td>\n",
       "      <td>0.012016</td>\n",
       "      <td>-0.009324</td>\n",
       "      <td>0.000030</td>\n",
       "      <td>0.009097</td>\n",
       "      <td>-0.007097</td>\n",
       "      <td>0.008266</td>\n",
       "      <td>0.008889</td>\n",
       "      <td>1.000000</td>\n",
       "      <td>-0.003398</td>\n",
       "    </tr>\n",
       "    <tr>\n",
       "      <th>LEAVE</th>\n",
       "      <td>-0.015436</td>\n",
       "      <td>-0.097832</td>\n",
       "      <td>-0.232061</td>\n",
       "      <td>-0.060279</td>\n",
       "      <td>0.210863</td>\n",
       "      <td>-0.091972</td>\n",
       "      <td>-0.198505</td>\n",
       "      <td>0.006744</td>\n",
       "      <td>-0.010298</td>\n",
       "      <td>-0.002196</td>\n",
       "      <td>-0.003398</td>\n",
       "      <td>1.000000</td>\n",
       "    </tr>\n",
       "  </tbody>\n",
       "</table>\n",
       "</div>"
      ],
      "text/plain": [
       "                              COLLEGE    INCOME   OVERAGE  LEFTOVER     HOUSE  \\\n",
       "COLLEGE                      1.000000  0.013834 -0.001998 -0.004238 -0.004234   \n",
       "INCOME                       0.013834  1.000000  0.002628  0.006930 -0.009309   \n",
       "OVERAGE                     -0.001998  0.002628  1.000000 -0.003809  0.001570   \n",
       "LEFTOVER                    -0.004238  0.006930 -0.003809  1.000000  0.006328   \n",
       "HOUSE                       -0.004234 -0.009309  0.001570  0.006328  1.000000   \n",
       "HANDSET_PRICE                0.012381  0.725662  0.003689  0.003942 -0.007647   \n",
       "OVER_15MINS_CALLS_PER_MONTH -0.009086  0.004128  0.771036 -0.010942  0.005354   \n",
       "AVERAGE_CALL_DURATION       -0.002171 -0.005496  0.002241 -0.658231 -0.010259   \n",
       "REPORTED_SATISFACTION       -0.007199 -0.002529  0.022151 -0.004944  0.003954   \n",
       "REPORTED_USAGE_LEVEL        -0.000345 -0.002913  0.002432  0.008600 -0.008636   \n",
       "CONSIDERING_CHANGE_OF_PLAN  -0.013002  0.000281  0.011492  0.012016 -0.009324   \n",
       "LEAVE                       -0.015436 -0.097832 -0.232061 -0.060279  0.210863   \n",
       "\n",
       "                             HANDSET_PRICE  OVER_15MINS_CALLS_PER_MONTH  \\\n",
       "COLLEGE                           0.012381                    -0.009086   \n",
       "INCOME                            0.725662                     0.004128   \n",
       "OVERAGE                           0.003689                     0.771036   \n",
       "LEFTOVER                          0.003942                    -0.010942   \n",
       "HOUSE                            -0.007647                     0.005354   \n",
       "HANDSET_PRICE                     1.000000                     0.005041   \n",
       "OVER_15MINS_CALLS_PER_MONTH       0.005041                     1.000000   \n",
       "AVERAGE_CALL_DURATION            -0.005146                     0.009526   \n",
       "REPORTED_SATISFACTION            -0.007521                     0.017457   \n",
       "REPORTED_USAGE_LEVEL              0.001996                    -0.002128   \n",
       "CONSIDERING_CHANGE_OF_PLAN        0.000030                     0.009097   \n",
       "LEAVE                            -0.091972                    -0.198505   \n",
       "\n",
       "                             AVERAGE_CALL_DURATION  REPORTED_SATISFACTION  \\\n",
       "COLLEGE                                  -0.002171              -0.007199   \n",
       "INCOME                                   -0.005496              -0.002529   \n",
       "OVERAGE                                   0.002241               0.022151   \n",
       "LEFTOVER                                 -0.658231              -0.004944   \n",
       "HOUSE                                    -0.010259               0.003954   \n",
       "HANDSET_PRICE                            -0.005146              -0.007521   \n",
       "OVER_15MINS_CALLS_PER_MONTH               0.009526               0.017457   \n",
       "AVERAGE_CALL_DURATION                     1.000000               0.000856   \n",
       "REPORTED_SATISFACTION                     0.000856               1.000000   \n",
       "REPORTED_USAGE_LEVEL                     -0.011424               0.000208   \n",
       "CONSIDERING_CHANGE_OF_PLAN               -0.007097               0.008266   \n",
       "LEAVE                                     0.006744              -0.010298   \n",
       "\n",
       "                             REPORTED_USAGE_LEVEL  CONSIDERING_CHANGE_OF_PLAN  \\\n",
       "COLLEGE                                 -0.000345                   -0.013002   \n",
       "INCOME                                  -0.002913                    0.000281   \n",
       "OVERAGE                                  0.002432                    0.011492   \n",
       "LEFTOVER                                 0.008600                    0.012016   \n",
       "HOUSE                                   -0.008636                   -0.009324   \n",
       "HANDSET_PRICE                            0.001996                    0.000030   \n",
       "OVER_15MINS_CALLS_PER_MONTH             -0.002128                    0.009097   \n",
       "AVERAGE_CALL_DURATION                   -0.011424                   -0.007097   \n",
       "REPORTED_SATISFACTION                    0.000208                    0.008266   \n",
       "REPORTED_USAGE_LEVEL                     1.000000                    0.008889   \n",
       "CONSIDERING_CHANGE_OF_PLAN               0.008889                    1.000000   \n",
       "LEAVE                                   -0.002196                   -0.003398   \n",
       "\n",
       "                                LEAVE  \n",
       "COLLEGE                     -0.015436  \n",
       "INCOME                      -0.097832  \n",
       "OVERAGE                     -0.232061  \n",
       "LEFTOVER                    -0.060279  \n",
       "HOUSE                        0.210863  \n",
       "HANDSET_PRICE               -0.091972  \n",
       "OVER_15MINS_CALLS_PER_MONTH -0.198505  \n",
       "AVERAGE_CALL_DURATION        0.006744  \n",
       "REPORTED_SATISFACTION       -0.010298  \n",
       "REPORTED_USAGE_LEVEL        -0.002196  \n",
       "CONSIDERING_CHANGE_OF_PLAN  -0.003398  \n",
       "LEAVE                        1.000000  "
      ]
     },
     "execution_count": 11,
     "metadata": {},
     "output_type": "execute_result"
    }
   ],
   "source": [
    "df.corr(method='pearson')"
   ]
  },
  {
   "cell_type": "code",
   "execution_count": 12,
   "metadata": {
    "ExecuteTime": {
     "end_time": "2019-03-30T17:12:15.054683Z",
     "start_time": "2019-03-30T17:12:15.039692Z"
    },
    "colab": {
     "autoexec": {
      "startup": false,
      "wait_interval": 0
     },
     "base_uri": "https://localhost:8080/",
     "height": 204,
     "output_extras": [
      {
       "item_id": 1
      }
     ]
    },
    "colab_type": "code",
    "executionInfo": {
     "elapsed": 471,
     "status": "ok",
     "timestamp": 1518626635182,
     "user": {
      "displayName": "VUTSAL SINGHAL",
      "photoUrl": "//lh4.googleusercontent.com/-ScnscqIwZps/AAAAAAAAAAI/AAAAAAAAAOc/CheZLKQf3Dk/s50-c-k-no/photo.jpg",
      "userId": "102198032967082448236"
     },
     "user_tz": 300
    },
    "id": "j6bPkdFUFS-V",
    "outputId": "4e78b37e-02ad-45e5-f621-d3d00317fb86"
   },
   "outputs": [
    {
     "data": {
      "text/html": [
       "<div>\n",
       "<style scoped>\n",
       "    .dataframe tbody tr th:only-of-type {\n",
       "        vertical-align: middle;\n",
       "    }\n",
       "\n",
       "    .dataframe tbody tr th {\n",
       "        vertical-align: top;\n",
       "    }\n",
       "\n",
       "    .dataframe thead th {\n",
       "        text-align: right;\n",
       "    }\n",
       "</style>\n",
       "<table border=\"1\" class=\"dataframe\">\n",
       "  <thead>\n",
       "    <tr style=\"text-align: right;\">\n",
       "      <th></th>\n",
       "      <th>COLLEGE</th>\n",
       "      <th>INCOME</th>\n",
       "      <th>OVERAGE</th>\n",
       "      <th>LEFTOVER</th>\n",
       "      <th>HOUSE</th>\n",
       "      <th>HANDSET_PRICE</th>\n",
       "      <th>OVER_15MINS_CALLS_PER_MONTH</th>\n",
       "      <th>AVERAGE_CALL_DURATION</th>\n",
       "      <th>REPORTED_SATISFACTION</th>\n",
       "      <th>REPORTED_USAGE_LEVEL</th>\n",
       "      <th>CONSIDERING_CHANGE_OF_PLAN</th>\n",
       "    </tr>\n",
       "  </thead>\n",
       "  <tbody>\n",
       "    <tr>\n",
       "      <th>0</th>\n",
       "      <td>0</td>\n",
       "      <td>31953</td>\n",
       "      <td>0</td>\n",
       "      <td>6</td>\n",
       "      <td>313378</td>\n",
       "      <td>161</td>\n",
       "      <td>0</td>\n",
       "      <td>4</td>\n",
       "      <td>3</td>\n",
       "      <td>3</td>\n",
       "      <td>1</td>\n",
       "    </tr>\n",
       "    <tr>\n",
       "      <th>1</th>\n",
       "      <td>1</td>\n",
       "      <td>36147</td>\n",
       "      <td>0</td>\n",
       "      <td>13</td>\n",
       "      <td>800586</td>\n",
       "      <td>244</td>\n",
       "      <td>0</td>\n",
       "      <td>6</td>\n",
       "      <td>3</td>\n",
       "      <td>3</td>\n",
       "      <td>2</td>\n",
       "    </tr>\n",
       "    <tr>\n",
       "      <th>2</th>\n",
       "      <td>1</td>\n",
       "      <td>27273</td>\n",
       "      <td>230</td>\n",
       "      <td>0</td>\n",
       "      <td>305049</td>\n",
       "      <td>201</td>\n",
       "      <td>16</td>\n",
       "      <td>15</td>\n",
       "      <td>3</td>\n",
       "      <td>4</td>\n",
       "      <td>3</td>\n",
       "    </tr>\n",
       "    <tr>\n",
       "      <th>3</th>\n",
       "      <td>0</td>\n",
       "      <td>120070</td>\n",
       "      <td>38</td>\n",
       "      <td>33</td>\n",
       "      <td>788235</td>\n",
       "      <td>780</td>\n",
       "      <td>3</td>\n",
       "      <td>2</td>\n",
       "      <td>3</td>\n",
       "      <td>0</td>\n",
       "      <td>2</td>\n",
       "    </tr>\n",
       "    <tr>\n",
       "      <th>4</th>\n",
       "      <td>1</td>\n",
       "      <td>29215</td>\n",
       "      <td>208</td>\n",
       "      <td>85</td>\n",
       "      <td>224784</td>\n",
       "      <td>241</td>\n",
       "      <td>21</td>\n",
       "      <td>1</td>\n",
       "      <td>4</td>\n",
       "      <td>3</td>\n",
       "      <td>0</td>\n",
       "    </tr>\n",
       "  </tbody>\n",
       "</table>\n",
       "</div>"
      ],
      "text/plain": [
       "   COLLEGE  INCOME  OVERAGE  LEFTOVER   HOUSE  HANDSET_PRICE  \\\n",
       "0        0   31953        0         6  313378            161   \n",
       "1        1   36147        0        13  800586            244   \n",
       "2        1   27273      230         0  305049            201   \n",
       "3        0  120070       38        33  788235            780   \n",
       "4        1   29215      208        85  224784            241   \n",
       "\n",
       "   OVER_15MINS_CALLS_PER_MONTH  AVERAGE_CALL_DURATION  REPORTED_SATISFACTION  \\\n",
       "0                            0                      4                      3   \n",
       "1                            0                      6                      3   \n",
       "2                           16                     15                      3   \n",
       "3                            3                      2                      3   \n",
       "4                           21                      1                      4   \n",
       "\n",
       "   REPORTED_USAGE_LEVEL  CONSIDERING_CHANGE_OF_PLAN  \n",
       "0                     3                           1  \n",
       "1                     3                           2  \n",
       "2                     4                           3  \n",
       "3                     0                           2  \n",
       "4                     3                           0  "
      ]
     },
     "execution_count": 12,
     "metadata": {},
     "output_type": "execute_result"
    }
   ],
   "source": [
    "X,y = df.loc[:, df.columns != 'LEAVE'], df.loc[:, df.columns == 'LEAVE']\n",
    "X.head()"
   ]
  },
  {
   "cell_type": "markdown",
   "metadata": {
    "colab_type": "text",
    "id": "lglAHexT9n68"
   },
   "source": [
    "## Train-test spilt"
   ]
  },
  {
   "cell_type": "code",
   "execution_count": 13,
   "metadata": {
    "ExecuteTime": {
     "end_time": "2019-03-30T17:12:18.331677Z",
     "start_time": "2019-03-30T17:12:18.182996Z"
    },
    "colab": {
     "autoexec": {
      "startup": false,
      "wait_interval": 0
     }
    },
    "colab_type": "code",
    "id": "oer_ryr69n6_"
   },
   "outputs": [],
   "source": [
    "X_train, X_test, y_train, y_test = train_test_split(X, y, test_size=0.15, random_state=0,stratify=y)"
   ]
  },
  {
   "cell_type": "markdown",
   "metadata": {},
   "source": [
    "## Normalizing features"
   ]
  },
  {
   "cell_type": "code",
   "execution_count": 14,
   "metadata": {
    "ExecuteTime": {
     "end_time": "2019-03-30T17:12:20.919144Z",
     "start_time": "2019-03-30T17:12:20.911682Z"
    },
    "collapsed": true
   },
   "outputs": [
    {
     "name": "stderr",
     "output_type": "stream",
     "text": [
      "/usr/local/lib/python3.6/dist-packages/sklearn/preprocessing/data.py:334: DataConversionWarning: Data with input dtype int64 were all converted to float64 by MinMaxScaler.\n",
      "  return self.partial_fit(X, y)\n"
     ]
    }
   ],
   "source": [
    "from sklearn.preprocessing import MinMaxScaler\n",
    "\n",
    "mms = MinMaxScaler()\n",
    "X_train_norm = mms.fit_transform(X_train)\n",
    "X_test_norm  = mms.transform(X_test)"
   ]
  },
  {
   "cell_type": "code",
   "execution_count": 15,
   "metadata": {
    "ExecuteTime": {
     "end_time": "2019-03-30T17:12:30.941468Z",
     "start_time": "2019-03-30T17:12:30.937785Z"
    }
   },
   "outputs": [],
   "source": [
    "X_train_norm_df = pd.DataFrame(X_train_norm,columns=df.columns[df.columns != 'LEAVE'])\n",
    "X_test_norm_df  = pd.DataFrame(X_test_norm,columns=df.columns[df.columns != 'LEAVE'])"
   ]
  },
  {
   "cell_type": "markdown",
   "metadata": {
    "colab_type": "text",
    "id": "-Z7UNSQd9n7F"
   },
   "source": [
    "## Standardizing features"
   ]
  },
  {
   "cell_type": "code",
   "execution_count": 16,
   "metadata": {
    "ExecuteTime": {
     "end_time": "2019-03-30T17:12:32.514643Z",
     "start_time": "2019-03-30T17:12:32.490138Z"
    },
    "colab": {
     "autoexec": {
      "startup": false,
      "wait_interval": 0
     }
    },
    "colab_type": "code",
    "collapsed": true,
    "id": "b_9DG3MO9n7G"
   },
   "outputs": [
    {
     "name": "stderr",
     "output_type": "stream",
     "text": [
      "/usr/local/lib/python3.6/dist-packages/sklearn/preprocessing/data.py:645: DataConversionWarning: Data with input dtype int64 were all converted to float64 by StandardScaler.\n",
      "  return self.partial_fit(X, y)\n",
      "/usr/local/lib/python3.6/dist-packages/sklearn/base.py:464: DataConversionWarning: Data with input dtype int64 were all converted to float64 by StandardScaler.\n",
      "  return self.fit(X, **fit_params).transform(X)\n",
      "/usr/local/lib/python3.6/dist-packages/ipykernel_launcher.py:5: DataConversionWarning: Data with input dtype int64 were all converted to float64 by StandardScaler.\n",
      "  \"\"\"\n"
     ]
    }
   ],
   "source": [
    "from sklearn.preprocessing import StandardScaler\n",
    "\n",
    "stdsc = StandardScaler()\n",
    "X_train_std = stdsc.fit_transform(X_train)\n",
    "X_test_std  = stdsc.transform(X_test)"
   ]
  },
  {
   "cell_type": "code",
   "execution_count": 17,
   "metadata": {
    "ExecuteTime": {
     "end_time": "2019-03-30T17:12:44.007842Z",
     "start_time": "2019-03-30T17:12:44.003616Z"
    }
   },
   "outputs": [],
   "source": [
    "X_train_std_df = pd.DataFrame(X_train_std,columns=df.columns[df.columns != 'LEAVE'])\n",
    "X_test_std_df  = pd.DataFrame(X_test_std,columns=df.columns[df.columns != 'LEAVE'])"
   ]
  },
  {
   "cell_type": "code",
   "execution_count": 18,
   "metadata": {
    "ExecuteTime": {
     "end_time": "2019-03-30T17:12:45.736700Z",
     "start_time": "2019-03-30T17:12:45.647876Z"
    },
    "colab": {
     "autoexec": {
      "startup": false,
      "wait_interval": 0
     },
     "base_uri": "https://localhost:8080/",
     "height": 35,
     "output_extras": [
      {
       "item_id": 1
      }
     ]
    },
    "colab_type": "code",
    "executionInfo": {
     "elapsed": 1016,
     "status": "ok",
     "timestamp": 1518626736491,
     "user": {
      "displayName": "VUTSAL SINGHAL",
      "photoUrl": "//lh4.googleusercontent.com/-ScnscqIwZps/AAAAAAAAAAI/AAAAAAAAAOc/CheZLKQf3Dk/s50-c-k-no/photo.jpg",
      "userId": "102198032967082448236"
     },
     "user_tz": 300
    },
    "id": "ms07s-EHLTK9",
    "outputId": "f1c96b5a-a9fc-4c86-c47d-4b159c521ac9"
   },
   "outputs": [
    {
     "data": {
      "text/html": [
       "<div>\n",
       "<style scoped>\n",
       "    .dataframe tbody tr th:only-of-type {\n",
       "        vertical-align: middle;\n",
       "    }\n",
       "\n",
       "    .dataframe tbody tr th {\n",
       "        vertical-align: top;\n",
       "    }\n",
       "\n",
       "    .dataframe thead th {\n",
       "        text-align: right;\n",
       "    }\n",
       "</style>\n",
       "<table border=\"1\" class=\"dataframe\">\n",
       "  <thead>\n",
       "    <tr style=\"text-align: right;\">\n",
       "      <th></th>\n",
       "      <th>COLLEGE</th>\n",
       "      <th>INCOME</th>\n",
       "      <th>OVERAGE</th>\n",
       "      <th>LEFTOVER</th>\n",
       "      <th>HOUSE</th>\n",
       "      <th>HANDSET_PRICE</th>\n",
       "      <th>OVER_15MINS_CALLS_PER_MONTH</th>\n",
       "      <th>AVERAGE_CALL_DURATION</th>\n",
       "      <th>REPORTED_SATISFACTION</th>\n",
       "      <th>REPORTED_USAGE_LEVEL</th>\n",
       "      <th>CONSIDERING_CHANGE_OF_PLAN</th>\n",
       "    </tr>\n",
       "  </thead>\n",
       "  <tbody>\n",
       "    <tr>\n",
       "      <th>count</th>\n",
       "      <td>1.530000e+04</td>\n",
       "      <td>1.530000e+04</td>\n",
       "      <td>1.530000e+04</td>\n",
       "      <td>1.530000e+04</td>\n",
       "      <td>1.530000e+04</td>\n",
       "      <td>1.530000e+04</td>\n",
       "      <td>1.530000e+04</td>\n",
       "      <td>1.530000e+04</td>\n",
       "      <td>1.530000e+04</td>\n",
       "      <td>1.530000e+04</td>\n",
       "      <td>1.530000e+04</td>\n",
       "    </tr>\n",
       "    <tr>\n",
       "      <th>mean</th>\n",
       "      <td>1.491908e-17</td>\n",
       "      <td>-7.006741e-17</td>\n",
       "      <td>3.088597e-16</td>\n",
       "      <td>1.577823e-16</td>\n",
       "      <td>1.044771e-16</td>\n",
       "      <td>-1.224874e-17</td>\n",
       "      <td>-1.445249e-16</td>\n",
       "      <td>-8.133218e-16</td>\n",
       "      <td>5.271455e-16</td>\n",
       "      <td>3.211665e-17</td>\n",
       "      <td>5.768951e-16</td>\n",
       "    </tr>\n",
       "    <tr>\n",
       "      <th>std</th>\n",
       "      <td>1.000033e+00</td>\n",
       "      <td>1.000033e+00</td>\n",
       "      <td>1.000033e+00</td>\n",
       "      <td>1.000033e+00</td>\n",
       "      <td>1.000033e+00</td>\n",
       "      <td>1.000033e+00</td>\n",
       "      <td>1.000033e+00</td>\n",
       "      <td>1.000033e+00</td>\n",
       "      <td>1.000033e+00</td>\n",
       "      <td>1.000033e+00</td>\n",
       "      <td>1.000033e+00</td>\n",
       "    </tr>\n",
       "    <tr>\n",
       "      <th>min</th>\n",
       "      <td>-1.004980e+00</td>\n",
       "      <td>-1.445290e+00</td>\n",
       "      <td>-9.984945e-01</td>\n",
       "      <td>-8.855743e-01</td>\n",
       "      <td>-1.355580e+00</td>\n",
       "      <td>-1.221014e+00</td>\n",
       "      <td>-8.944702e-01</td>\n",
       "      <td>-1.143030e+00</td>\n",
       "      <td>-1.497069e+00</td>\n",
       "      <td>-1.445082e+00</td>\n",
       "      <td>-1.683728e+00</td>\n",
       "    </tr>\n",
       "    <tr>\n",
       "      <th>25%</th>\n",
       "      <td>-1.004980e+00</td>\n",
       "      <td>-9.139354e-01</td>\n",
       "      <td>-9.984945e-01</td>\n",
       "      <td>-8.855743e-01</td>\n",
       "      <td>-9.119000e-01</td>\n",
       "      <td>-8.001027e-01</td>\n",
       "      <td>-7.823683e-01</td>\n",
       "      <td>-9.161563e-01</td>\n",
       "      <td>-1.497069e+00</td>\n",
       "      <td>-1.445082e+00</td>\n",
       "      <td>-9.002891e-01</td>\n",
       "    </tr>\n",
       "    <tr>\n",
       "      <th>50%</th>\n",
       "      <td>9.950450e-01</td>\n",
       "      <td>-1.234612e-01</td>\n",
       "      <td>-3.118898e-01</td>\n",
       "      <td>-3.630022e-01</td>\n",
       "      <td>-1.690944e-01</td>\n",
       "      <td>-2.996858e-01</td>\n",
       "      <td>-4.460628e-01</td>\n",
       "      <td>-2.355339e-01</td>\n",
       "      <td>3.429489e-01</td>\n",
       "      <td>5.350733e-01</td>\n",
       "      <td>-1.168502e-01</td>\n",
       "    </tr>\n",
       "    <tr>\n",
       "      <th>75%</th>\n",
       "      <td>9.950450e-01</td>\n",
       "      <td>8.604995e-01</td>\n",
       "      <td>1.084594e+00</td>\n",
       "      <td>6.448155e-01</td>\n",
       "      <td>8.368421e-01</td>\n",
       "      <td>6.777639e-01</td>\n",
       "      <td>7.870576e-01</td>\n",
       "      <td>8.988368e-01</td>\n",
       "      <td>9.562882e-01</td>\n",
       "      <td>5.350733e-01</td>\n",
       "      <td>6.665887e-01</td>\n",
       "    </tr>\n",
       "    <tr>\n",
       "      <th>max</th>\n",
       "      <td>9.950450e-01</td>\n",
       "      <td>1.905174e+00</td>\n",
       "      <td>2.900024e+00</td>\n",
       "      <td>2.436491e+00</td>\n",
       "      <td>2.012015e+00</td>\n",
       "      <td>2.375440e+00</td>\n",
       "      <td>2.356483e+00</td>\n",
       "      <td>2.033207e+00</td>\n",
       "      <td>9.562882e-01</td>\n",
       "      <td>1.195125e+00</td>\n",
       "      <td>1.450028e+00</td>\n",
       "    </tr>\n",
       "  </tbody>\n",
       "</table>\n",
       "</div>"
      ],
      "text/plain": [
       "            COLLEGE        INCOME       OVERAGE      LEFTOVER         HOUSE  \\\n",
       "count  1.530000e+04  1.530000e+04  1.530000e+04  1.530000e+04  1.530000e+04   \n",
       "mean   1.491908e-17 -7.006741e-17  3.088597e-16  1.577823e-16  1.044771e-16   \n",
       "std    1.000033e+00  1.000033e+00  1.000033e+00  1.000033e+00  1.000033e+00   \n",
       "min   -1.004980e+00 -1.445290e+00 -9.984945e-01 -8.855743e-01 -1.355580e+00   \n",
       "25%   -1.004980e+00 -9.139354e-01 -9.984945e-01 -8.855743e-01 -9.119000e-01   \n",
       "50%    9.950450e-01 -1.234612e-01 -3.118898e-01 -3.630022e-01 -1.690944e-01   \n",
       "75%    9.950450e-01  8.604995e-01  1.084594e+00  6.448155e-01  8.368421e-01   \n",
       "max    9.950450e-01  1.905174e+00  2.900024e+00  2.436491e+00  2.012015e+00   \n",
       "\n",
       "       HANDSET_PRICE  OVER_15MINS_CALLS_PER_MONTH  AVERAGE_CALL_DURATION  \\\n",
       "count   1.530000e+04                 1.530000e+04           1.530000e+04   \n",
       "mean   -1.224874e-17                -1.445249e-16          -8.133218e-16   \n",
       "std     1.000033e+00                 1.000033e+00           1.000033e+00   \n",
       "min    -1.221014e+00                -8.944702e-01          -1.143030e+00   \n",
       "25%    -8.001027e-01                -7.823683e-01          -9.161563e-01   \n",
       "50%    -2.996858e-01                -4.460628e-01          -2.355339e-01   \n",
       "75%     6.777639e-01                 7.870576e-01           8.988368e-01   \n",
       "max     2.375440e+00                 2.356483e+00           2.033207e+00   \n",
       "\n",
       "       REPORTED_SATISFACTION  REPORTED_USAGE_LEVEL  CONSIDERING_CHANGE_OF_PLAN  \n",
       "count           1.530000e+04          1.530000e+04                1.530000e+04  \n",
       "mean            5.271455e-16          3.211665e-17                5.768951e-16  \n",
       "std             1.000033e+00          1.000033e+00                1.000033e+00  \n",
       "min            -1.497069e+00         -1.445082e+00               -1.683728e+00  \n",
       "25%            -1.497069e+00         -1.445082e+00               -9.002891e-01  \n",
       "50%             3.429489e-01          5.350733e-01               -1.168502e-01  \n",
       "75%             9.562882e-01          5.350733e-01                6.665887e-01  \n",
       "max             9.562882e-01          1.195125e+00                1.450028e+00  "
      ]
     },
     "execution_count": 18,
     "metadata": {},
     "output_type": "execute_result"
    }
   ],
   "source": [
    "X_train_std_df.describe()"
   ]
  },
  {
   "cell_type": "code",
   "execution_count": 19,
   "metadata": {
    "ExecuteTime": {
     "end_time": "2019-03-30T17:12:47.890829Z",
     "start_time": "2019-03-30T17:12:47.869384Z"
    }
   },
   "outputs": [
    {
     "data": {
      "text/html": [
       "<div>\n",
       "<style scoped>\n",
       "    .dataframe tbody tr th:only-of-type {\n",
       "        vertical-align: middle;\n",
       "    }\n",
       "\n",
       "    .dataframe tbody tr th {\n",
       "        vertical-align: top;\n",
       "    }\n",
       "\n",
       "    .dataframe thead th {\n",
       "        text-align: right;\n",
       "    }\n",
       "</style>\n",
       "<table border=\"1\" class=\"dataframe\">\n",
       "  <thead>\n",
       "    <tr style=\"text-align: right;\">\n",
       "      <th></th>\n",
       "      <th>COLLEGE</th>\n",
       "      <th>INCOME</th>\n",
       "      <th>OVERAGE</th>\n",
       "      <th>LEFTOVER</th>\n",
       "      <th>HOUSE</th>\n",
       "      <th>HANDSET_PRICE</th>\n",
       "      <th>OVER_15MINS_CALLS_PER_MONTH</th>\n",
       "      <th>AVERAGE_CALL_DURATION</th>\n",
       "      <th>REPORTED_SATISFACTION</th>\n",
       "      <th>REPORTED_USAGE_LEVEL</th>\n",
       "      <th>CONSIDERING_CHANGE_OF_PLAN</th>\n",
       "    </tr>\n",
       "  </thead>\n",
       "  <tbody>\n",
       "    <tr>\n",
       "      <th>COLLEGE</th>\n",
       "      <td>1.000000</td>\n",
       "      <td>0.016451</td>\n",
       "      <td>-0.003923</td>\n",
       "      <td>-0.008803</td>\n",
       "      <td>-0.004963</td>\n",
       "      <td>0.017777</td>\n",
       "      <td>-0.009147</td>\n",
       "      <td>0.001084</td>\n",
       "      <td>-0.009321</td>\n",
       "      <td>-0.001268</td>\n",
       "      <td>-0.018093</td>\n",
       "    </tr>\n",
       "    <tr>\n",
       "      <th>INCOME</th>\n",
       "      <td>0.016451</td>\n",
       "      <td>1.000000</td>\n",
       "      <td>0.002028</td>\n",
       "      <td>0.007072</td>\n",
       "      <td>-0.012456</td>\n",
       "      <td>0.723891</td>\n",
       "      <td>0.003201</td>\n",
       "      <td>-0.006762</td>\n",
       "      <td>-0.006292</td>\n",
       "      <td>0.001113</td>\n",
       "      <td>-0.002013</td>\n",
       "    </tr>\n",
       "    <tr>\n",
       "      <th>OVERAGE</th>\n",
       "      <td>-0.003923</td>\n",
       "      <td>0.002028</td>\n",
       "      <td>1.000000</td>\n",
       "      <td>-0.012437</td>\n",
       "      <td>-0.002461</td>\n",
       "      <td>0.004478</td>\n",
       "      <td>0.771352</td>\n",
       "      <td>0.007409</td>\n",
       "      <td>0.022556</td>\n",
       "      <td>-0.001994</td>\n",
       "      <td>0.010284</td>\n",
       "    </tr>\n",
       "    <tr>\n",
       "      <th>LEFTOVER</th>\n",
       "      <td>-0.008803</td>\n",
       "      <td>0.007072</td>\n",
       "      <td>-0.012437</td>\n",
       "      <td>1.000000</td>\n",
       "      <td>0.008248</td>\n",
       "      <td>0.001612</td>\n",
       "      <td>-0.014931</td>\n",
       "      <td>-0.658290</td>\n",
       "      <td>-0.004358</td>\n",
       "      <td>0.011769</td>\n",
       "      <td>0.015918</td>\n",
       "    </tr>\n",
       "    <tr>\n",
       "      <th>HOUSE</th>\n",
       "      <td>-0.004963</td>\n",
       "      <td>-0.012456</td>\n",
       "      <td>-0.002461</td>\n",
       "      <td>0.008248</td>\n",
       "      <td>1.000000</td>\n",
       "      <td>-0.008065</td>\n",
       "      <td>0.004285</td>\n",
       "      <td>-0.010098</td>\n",
       "      <td>0.009718</td>\n",
       "      <td>-0.008664</td>\n",
       "      <td>-0.007196</td>\n",
       "    </tr>\n",
       "    <tr>\n",
       "      <th>HANDSET_PRICE</th>\n",
       "      <td>0.017777</td>\n",
       "      <td>0.723891</td>\n",
       "      <td>0.004478</td>\n",
       "      <td>0.001612</td>\n",
       "      <td>-0.008065</td>\n",
       "      <td>1.000000</td>\n",
       "      <td>0.007368</td>\n",
       "      <td>-0.002888</td>\n",
       "      <td>-0.008801</td>\n",
       "      <td>0.004923</td>\n",
       "      <td>-0.003434</td>\n",
       "    </tr>\n",
       "    <tr>\n",
       "      <th>OVER_15MINS_CALLS_PER_MONTH</th>\n",
       "      <td>-0.009147</td>\n",
       "      <td>0.003201</td>\n",
       "      <td>0.771352</td>\n",
       "      <td>-0.014931</td>\n",
       "      <td>0.004285</td>\n",
       "      <td>0.007368</td>\n",
       "      <td>1.000000</td>\n",
       "      <td>0.011246</td>\n",
       "      <td>0.017819</td>\n",
       "      <td>-0.006255</td>\n",
       "      <td>0.007702</td>\n",
       "    </tr>\n",
       "    <tr>\n",
       "      <th>AVERAGE_CALL_DURATION</th>\n",
       "      <td>0.001084</td>\n",
       "      <td>-0.006762</td>\n",
       "      <td>0.007409</td>\n",
       "      <td>-0.658290</td>\n",
       "      <td>-0.010098</td>\n",
       "      <td>-0.002888</td>\n",
       "      <td>0.011246</td>\n",
       "      <td>1.000000</td>\n",
       "      <td>0.001133</td>\n",
       "      <td>-0.008423</td>\n",
       "      <td>-0.013280</td>\n",
       "    </tr>\n",
       "    <tr>\n",
       "      <th>REPORTED_SATISFACTION</th>\n",
       "      <td>-0.009321</td>\n",
       "      <td>-0.006292</td>\n",
       "      <td>0.022556</td>\n",
       "      <td>-0.004358</td>\n",
       "      <td>0.009718</td>\n",
       "      <td>-0.008801</td>\n",
       "      <td>0.017819</td>\n",
       "      <td>0.001133</td>\n",
       "      <td>1.000000</td>\n",
       "      <td>0.003304</td>\n",
       "      <td>0.012216</td>\n",
       "    </tr>\n",
       "    <tr>\n",
       "      <th>REPORTED_USAGE_LEVEL</th>\n",
       "      <td>-0.001268</td>\n",
       "      <td>0.001113</td>\n",
       "      <td>-0.001994</td>\n",
       "      <td>0.011769</td>\n",
       "      <td>-0.008664</td>\n",
       "      <td>0.004923</td>\n",
       "      <td>-0.006255</td>\n",
       "      <td>-0.008423</td>\n",
       "      <td>0.003304</td>\n",
       "      <td>1.000000</td>\n",
       "      <td>0.001079</td>\n",
       "    </tr>\n",
       "    <tr>\n",
       "      <th>CONSIDERING_CHANGE_OF_PLAN</th>\n",
       "      <td>-0.018093</td>\n",
       "      <td>-0.002013</td>\n",
       "      <td>0.010284</td>\n",
       "      <td>0.015918</td>\n",
       "      <td>-0.007196</td>\n",
       "      <td>-0.003434</td>\n",
       "      <td>0.007702</td>\n",
       "      <td>-0.013280</td>\n",
       "      <td>0.012216</td>\n",
       "      <td>0.001079</td>\n",
       "      <td>1.000000</td>\n",
       "    </tr>\n",
       "  </tbody>\n",
       "</table>\n",
       "</div>"
      ],
      "text/plain": [
       "                              COLLEGE    INCOME   OVERAGE  LEFTOVER     HOUSE  \\\n",
       "COLLEGE                      1.000000  0.016451 -0.003923 -0.008803 -0.004963   \n",
       "INCOME                       0.016451  1.000000  0.002028  0.007072 -0.012456   \n",
       "OVERAGE                     -0.003923  0.002028  1.000000 -0.012437 -0.002461   \n",
       "LEFTOVER                    -0.008803  0.007072 -0.012437  1.000000  0.008248   \n",
       "HOUSE                       -0.004963 -0.012456 -0.002461  0.008248  1.000000   \n",
       "HANDSET_PRICE                0.017777  0.723891  0.004478  0.001612 -0.008065   \n",
       "OVER_15MINS_CALLS_PER_MONTH -0.009147  0.003201  0.771352 -0.014931  0.004285   \n",
       "AVERAGE_CALL_DURATION        0.001084 -0.006762  0.007409 -0.658290 -0.010098   \n",
       "REPORTED_SATISFACTION       -0.009321 -0.006292  0.022556 -0.004358  0.009718   \n",
       "REPORTED_USAGE_LEVEL        -0.001268  0.001113 -0.001994  0.011769 -0.008664   \n",
       "CONSIDERING_CHANGE_OF_PLAN  -0.018093 -0.002013  0.010284  0.015918 -0.007196   \n",
       "\n",
       "                             HANDSET_PRICE  OVER_15MINS_CALLS_PER_MONTH  \\\n",
       "COLLEGE                           0.017777                    -0.009147   \n",
       "INCOME                            0.723891                     0.003201   \n",
       "OVERAGE                           0.004478                     0.771352   \n",
       "LEFTOVER                          0.001612                    -0.014931   \n",
       "HOUSE                            -0.008065                     0.004285   \n",
       "HANDSET_PRICE                     1.000000                     0.007368   \n",
       "OVER_15MINS_CALLS_PER_MONTH       0.007368                     1.000000   \n",
       "AVERAGE_CALL_DURATION            -0.002888                     0.011246   \n",
       "REPORTED_SATISFACTION            -0.008801                     0.017819   \n",
       "REPORTED_USAGE_LEVEL              0.004923                    -0.006255   \n",
       "CONSIDERING_CHANGE_OF_PLAN       -0.003434                     0.007702   \n",
       "\n",
       "                             AVERAGE_CALL_DURATION  REPORTED_SATISFACTION  \\\n",
       "COLLEGE                                   0.001084              -0.009321   \n",
       "INCOME                                   -0.006762              -0.006292   \n",
       "OVERAGE                                   0.007409               0.022556   \n",
       "LEFTOVER                                 -0.658290              -0.004358   \n",
       "HOUSE                                    -0.010098               0.009718   \n",
       "HANDSET_PRICE                            -0.002888              -0.008801   \n",
       "OVER_15MINS_CALLS_PER_MONTH               0.011246               0.017819   \n",
       "AVERAGE_CALL_DURATION                     1.000000               0.001133   \n",
       "REPORTED_SATISFACTION                     0.001133               1.000000   \n",
       "REPORTED_USAGE_LEVEL                     -0.008423               0.003304   \n",
       "CONSIDERING_CHANGE_OF_PLAN               -0.013280               0.012216   \n",
       "\n",
       "                             REPORTED_USAGE_LEVEL  CONSIDERING_CHANGE_OF_PLAN  \n",
       "COLLEGE                                 -0.001268                   -0.018093  \n",
       "INCOME                                   0.001113                   -0.002013  \n",
       "OVERAGE                                 -0.001994                    0.010284  \n",
       "LEFTOVER                                 0.011769                    0.015918  \n",
       "HOUSE                                   -0.008664                   -0.007196  \n",
       "HANDSET_PRICE                            0.004923                   -0.003434  \n",
       "OVER_15MINS_CALLS_PER_MONTH             -0.006255                    0.007702  \n",
       "AVERAGE_CALL_DURATION                   -0.008423                   -0.013280  \n",
       "REPORTED_SATISFACTION                    0.003304                    0.012216  \n",
       "REPORTED_USAGE_LEVEL                     1.000000                    0.001079  \n",
       "CONSIDERING_CHANGE_OF_PLAN               0.001079                    1.000000  "
      ]
     },
     "execution_count": 19,
     "metadata": {},
     "output_type": "execute_result"
    }
   ],
   "source": [
    "X_train_std_df.corr(method='pearson')"
   ]
  },
  {
   "cell_type": "markdown",
   "metadata": {
    "colab_type": "text",
    "id": "1UhfIRV89n7N"
   },
   "source": [
    "## Assessing feature importance"
   ]
  },
  {
   "cell_type": "code",
   "execution_count": 20,
   "metadata": {
    "ExecuteTime": {
     "end_time": "2019-03-30T17:12:50.809855Z",
     "start_time": "2019-03-30T17:12:50.790754Z"
    },
    "colab": {
     "autoexec": {
      "startup": false,
      "wait_interval": 0
     }
    },
    "colab_type": "code",
    "id": "KB6Y_D189n7P"
   },
   "outputs": [],
   "source": [
    "from sklearn.ensemble import RandomForestClassifier"
   ]
  },
  {
   "cell_type": "code",
   "execution_count": 21,
   "metadata": {
    "ExecuteTime": {
     "end_time": "2019-03-30T17:13:01.947482Z",
     "start_time": "2019-03-30T17:12:51.479321Z"
    },
    "colab": {
     "autoexec": {
      "startup": false,
      "wait_interval": 0
     },
     "base_uri": "https://localhost:8080/",
     "height": 73,
     "output_extras": [
      {
       "item_id": 1
      }
     ]
    },
    "colab_type": "code",
    "executionInfo": {
     "elapsed": 11738,
     "status": "ok",
     "timestamp": 1518585644044,
     "user": {
      "displayName": "VUTSAL SINGHAL",
      "photoUrl": "//lh4.googleusercontent.com/-ScnscqIwZps/AAAAAAAAAAI/AAAAAAAAAOc/CheZLKQf3Dk/s50-c-k-no/photo.jpg",
      "userId": "102198032967082448236"
     },
     "user_tz": 300
    },
    "id": "25k3F3Dz9n7X",
    "outputId": "15135de0-dd7f-4403-f189-ddb02928299c"
   },
   "outputs": [],
   "source": [
    "feat_labels = X.columns\n",
    "forest      = RandomForestClassifier(n_estimators=500, random_state=1)\n",
    "forest.fit(X_train, y_train.values.ravel())\n",
    "\n",
    "importances = forest.feature_importances_\n",
    "indices     = np.argsort(importances)[::-1]"
   ]
  },
  {
   "cell_type": "code",
   "execution_count": 22,
   "metadata": {
    "ExecuteTime": {
     "end_time": "2019-03-30T17:13:01.954322Z",
     "start_time": "2019-03-30T17:13:01.949893Z"
    },
    "colab": {
     "autoexec": {
      "startup": false,
      "wait_interval": 0
     },
     "base_uri": "https://localhost:8080/",
     "height": 215,
     "output_extras": [
      {
       "item_id": 1
      }
     ]
    },
    "colab_type": "code",
    "executionInfo": {
     "elapsed": 280,
     "status": "ok",
     "timestamp": 1518582988895,
     "user": {
      "displayName": "VUTSAL SINGHAL",
      "photoUrl": "//lh4.googleusercontent.com/-ScnscqIwZps/AAAAAAAAAAI/AAAAAAAAAOc/CheZLKQf3Dk/s50-c-k-no/photo.jpg",
      "userId": "102198032967082448236"
     },
     "user_tz": 300
    },
    "id": "yXhHLMek9n7g",
    "outputId": "920635e4-73ed-4d56-929b-b83e4d13e2d7"
   },
   "outputs": [
    {
     "name": "stdout",
     "output_type": "stream",
     "text": [
      "1) HOUSE                          0.211508\n",
      "2) INCOME                         0.151801\n",
      "3) HANDSET_PRICE                  0.133486\n",
      "4) OVERAGE                        0.127137\n",
      "5) LEFTOVER                       0.092757\n",
      "6) OVER_15MINS_CALLS_PER_MONTH    0.079165\n",
      "7) AVERAGE_CALL_DURATION          0.064393\n",
      "8) CONSIDERING_CHANGE_OF_PLAN     0.041808\n",
      "9) REPORTED_USAGE_LEVEL           0.040218\n",
      "10) REPORTED_SATISFACTION          0.038492\n",
      "11) COLLEGE                        0.019236\n"
     ]
    }
   ],
   "source": [
    "for f in range(X_train.shape[1]):\n",
    "    print(\"%d) %-*s %f\" % (f+1, 30,feat_labels[indices[f]], importances[indices[f]]))"
   ]
  },
  {
   "cell_type": "code",
   "execution_count": 23,
   "metadata": {
    "ExecuteTime": {
     "end_time": "2019-03-30T17:13:02.412884Z",
     "start_time": "2019-03-30T17:13:01.956943Z"
    },
    "colab": {
     "autoexec": {
      "startup": false,
      "wait_interval": 0
     },
     "base_uri": "https://localhost:8080/",
     "height": 879,
     "output_extras": [
      {
       "item_id": 1
      }
     ]
    },
    "colab_type": "code",
    "executionInfo": {
     "elapsed": 562,
     "status": "ok",
     "timestamp": 1518582998546,
     "user": {
      "displayName": "VUTSAL SINGHAL",
      "photoUrl": "//lh4.googleusercontent.com/-ScnscqIwZps/AAAAAAAAAAI/AAAAAAAAAOc/CheZLKQf3Dk/s50-c-k-no/photo.jpg",
      "userId": "102198032967082448236"
     },
     "user_tz": 300
    },
    "id": "ldVQ31EZ9n7p",
    "outputId": "d3ddb731-e58b-468a-f17a-374c2979f983"
   },
   "outputs": [
    {
     "data": {
      "image/png": "[encoded data removed]",
      "text/plain": [
       "<matplotlib.figure.Figure at 0x7f4205adf5c0>"
      ]
     },
     "metadata": {
      "needs_background": "light"
     },
     "output_type": "display_data"
    }
   ],
   "source": [
    "fig = plt.figure(figsize=(10, 15))\n",
    "plt.title('Feature Importance')\n",
    "plt.barh(range(X_train.shape[1]), importances[indices], align='center', color='green', ecolor='black')\n",
    "plt.yticks(range(X_train.shape[1]), feat_labels, rotation=0)\n",
    "plt.gca().invert_yaxis()\n",
    "plt.show()"
   ]
  },
  {
   "cell_type": "markdown",
   "metadata": {
    "colab_type": "text",
    "id": "FHwXc4pf9n7w"
   },
   "source": [
    "## Using SVM"
   ]
  },
  {
   "cell_type": "code",
   "execution_count": 24,
   "metadata": {
    "ExecuteTime": {
     "end_time": "2019-03-30T17:13:18.560498Z",
     "start_time": "2019-03-30T17:13:07.810644Z"
    },
    "colab": {
     "autoexec": {
      "startup": false,
      "wait_interval": 0
     },
     "base_uri": "https://localhost:8080/",
     "height": 73,
     "output_extras": [
      {
       "item_id": 1
      }
     ]
    },
    "colab_type": "code",
    "id": "Rf2oopQGNnKK",
    "outputId": "4e6b091a-8217-43df-9abb-f573c3e96798"
   },
   "outputs": [
    {
     "name": "stdout",
     "output_type": "stream",
     "text": [
      "Training accuracy: 0.6832679738562092\n",
      "Test accuracy: 0.6881481481481482\n"
     ]
    }
   ],
   "source": [
    "from sklearn.svm import SVC\n",
    "\n",
    "svc   = SVC(kernel='rbf', C=1, random_state=1, gamma=0.2)\n",
    "y_rbf = svc.fit(X_train_std_df.iloc[:,1:5], y_train.values.ravel())\n",
    "\n",
    "print('Training accuracy:', y_rbf.score(X_train_std_df.iloc[:,1:5], y_train.values.ravel()))\n",
    "print('Test accuracy:', y_rbf.score(X_test_std_df.iloc[:,1:5], y_test.values.ravel()))"
   ]
  },
  {
   "cell_type": "markdown",
   "metadata": {
    "colab_type": "text",
    "id": "Axfli_1K9n89"
   },
   "source": [
    "## Using Decision Tree"
   ]
  },
  {
   "cell_type": "code",
   "execution_count": 25,
   "metadata": {
    "ExecuteTime": {
     "end_time": "2019-03-30T17:13:20.273732Z",
     "start_time": "2019-03-30T17:13:20.234503Z"
    },
    "colab": {
     "autoexec": {
      "startup": false,
      "wait_interval": 0
     },
     "base_uri": "https://localhost:8080/",
     "height": 125,
     "output_extras": [
      {
       "item_id": 1
      }
     ]
    },
    "colab_type": "code",
    "executionInfo": {
     "elapsed": 398,
     "status": "ok",
     "timestamp": 1518583873170,
     "user": {
      "displayName": "VUTSAL SINGHAL",
      "photoUrl": "//lh4.googleusercontent.com/-ScnscqIwZps/AAAAAAAAAAI/AAAAAAAAAOc/CheZLKQf3Dk/s50-c-k-no/photo.jpg",
      "userId": "102198032967082448236"
     },
     "user_tz": 300
    },
    "id": "kmSfIlDV9n8-",
    "outputId": "8ba1676c-b586-40b6-f8a8-3355076d48d7"
   },
   "outputs": [
    {
     "name": "stdout",
     "output_type": "stream",
     "text": [
      "Training accuracy: 0.7026143790849673\n",
      "Test accuracy: 0.7074074074074074\n"
     ]
    }
   ],
   "source": [
    "from sklearn.tree import DecisionTreeClassifier\n",
    "\n",
    "tree = DecisionTreeClassifier(class_weight='balanced', criterion='gini', max_depth=3, max_features=4, max_leaf_nodes=9, min_samples_leaf=5, min_samples_split=2, min_weight_fraction_leaf=0.0,presort=False, random_state=100, splitter='best')\n",
    "tree.fit(X_train_std_df.iloc[:,1:5], y_train.values.ravel())\n",
    "\n",
    "print('Training accuracy:', tree.score(X_train_std_df.iloc[:,1:5], y_train.values.ravel()))\n",
    "print('Test accuracy:', tree.score(X_test_std_df.iloc[:,1:5], y_test.values.ravel()))"
   ]
  },
  {
   "cell_type": "markdown",
   "metadata": {},
   "source": [
    "## Using Logistic Regression"
   ]
  },
  {
   "cell_type": "code",
   "execution_count": 27,
   "metadata": {
    "ExecuteTime": {
     "end_time": "2019-03-30T17:13:37.089423Z",
     "start_time": "2019-03-30T17:13:37.048173Z"
    },
    "scrolled": true
   },
   "outputs": [
    {
     "name": "stdout",
     "output_type": "stream",
     "text": [
      "Training accuracy: 0.6408496732026144\n",
      "Test accuracy: 0.6474074074074074\n"
     ]
    },
    {
     "name": "stderr",
     "output_type": "stream",
     "text": [
      "/usr/local/lib/python3.6/dist-packages/sklearn/linear_model/logistic.py:433: FutureWarning: Default solver will be changed to 'lbfgs' in 0.22. Specify a solver to silence this warning.\n",
      "  FutureWarning)\n"
     ]
    }
   ],
   "source": [
    "from sklearn.linear_model import LogisticRegression\n",
    "\n",
    "lr = LogisticRegression(penalty='l2', C=10e-2)\n",
    "lr.fit(X_train_std_df,y_train.values.ravel())\n",
    "\n",
    "print('Training accuracy:',lr.score(X_train_std_df, y_train.values.ravel()))\n",
    "print('Test accuracy:',lr.score(X_test_std_df, y_test.values.ravel()))"
   ]
  },
  {
   "cell_type": "markdown",
   "metadata": {},
   "source": [
    "## Finding test results"
   ]
  },
  {
   "cell_type": "code",
   "execution_count": 29,
   "metadata": {
    "ExecuteTime": {
     "end_time": "2019-03-30T17:13:44.165060Z",
     "start_time": "2019-03-30T17:13:44.156983Z"
    }
   },
   "outputs": [],
   "source": [
    "test_data = pd.read_csv('data/test.csv')"
   ]
  },
  {
   "cell_type": "code",
   "execution_count": 30,
   "metadata": {
    "ExecuteTime": {
     "end_time": "2019-03-30T17:13:45.243751Z",
     "start_time": "2019-03-30T17:13:45.230894Z"
    }
   },
   "outputs": [
    {
     "data": {
      "text/html": [
       "<div>\n",
       "<style scoped>\n",
       "    .dataframe tbody tr th:only-of-type {\n",
       "        vertical-align: middle;\n",
       "    }\n",
       "\n",
       "    .dataframe tbody tr th {\n",
       "        vertical-align: top;\n",
       "    }\n",
       "\n",
       "    .dataframe thead th {\n",
       "        text-align: right;\n",
       "    }\n",
       "</style>\n",
       "<table border=\"1\" class=\"dataframe\">\n",
       "  <thead>\n",
       "    <tr style=\"text-align: right;\">\n",
       "      <th></th>\n",
       "      <th>COLLEGE</th>\n",
       "      <th>INCOME</th>\n",
       "      <th>OVERAGE</th>\n",
       "      <th>LEFTOVER</th>\n",
       "      <th>HOUSE</th>\n",
       "      <th>HANDSET_PRICE</th>\n",
       "      <th>OVER_15MINS_CALLS_PER_MONTH</th>\n",
       "      <th>AVERAGE_CALL_DURATION</th>\n",
       "      <th>REPORTED_SATISFACTION</th>\n",
       "      <th>REPORTED_USAGE_LEVEL</th>\n",
       "      <th>CONSIDERING_CHANGE_OF_PLAN</th>\n",
       "    </tr>\n",
       "  </thead>\n",
       "  <tbody>\n",
       "    <tr>\n",
       "      <th>0</th>\n",
       "      <td>one</td>\n",
       "      <td>142806</td>\n",
       "      <td>202</td>\n",
       "      <td>0</td>\n",
       "      <td>264371</td>\n",
       "      <td>562</td>\n",
       "      <td>29</td>\n",
       "      <td>13</td>\n",
       "      <td>very_unsat</td>\n",
       "      <td>very_little</td>\n",
       "      <td>actively_looking_into_it</td>\n",
       "    </tr>\n",
       "    <tr>\n",
       "      <th>1</th>\n",
       "      <td>zero</td>\n",
       "      <td>41532</td>\n",
       "      <td>66</td>\n",
       "      <td>45</td>\n",
       "      <td>619188</td>\n",
       "      <td>190</td>\n",
       "      <td>3</td>\n",
       "      <td>2</td>\n",
       "      <td>unsat</td>\n",
       "      <td>high</td>\n",
       "      <td>actively_looking_into_it</td>\n",
       "    </tr>\n",
       "    <tr>\n",
       "      <th>2</th>\n",
       "      <td>zero</td>\n",
       "      <td>51919</td>\n",
       "      <td>191</td>\n",
       "      <td>61</td>\n",
       "      <td>986348</td>\n",
       "      <td>355</td>\n",
       "      <td>21</td>\n",
       "      <td>1</td>\n",
       "      <td>avg</td>\n",
       "      <td>very_little</td>\n",
       "      <td>no</td>\n",
       "    </tr>\n",
       "    <tr>\n",
       "      <th>3</th>\n",
       "      <td>one</td>\n",
       "      <td>32732</td>\n",
       "      <td>0</td>\n",
       "      <td>0</td>\n",
       "      <td>255165</td>\n",
       "      <td>301</td>\n",
       "      <td>1</td>\n",
       "      <td>10</td>\n",
       "      <td>avg</td>\n",
       "      <td>very_high</td>\n",
       "      <td>considering</td>\n",
       "    </tr>\n",
       "    <tr>\n",
       "      <th>4</th>\n",
       "      <td>zero</td>\n",
       "      <td>40412</td>\n",
       "      <td>0</td>\n",
       "      <td>0</td>\n",
       "      <td>246803</td>\n",
       "      <td>239</td>\n",
       "      <td>26</td>\n",
       "      <td>8</td>\n",
       "      <td>very_unsat</td>\n",
       "      <td>little</td>\n",
       "      <td>perhaps</td>\n",
       "    </tr>\n",
       "  </tbody>\n",
       "</table>\n",
       "</div>"
      ],
      "text/plain": [
       "  COLLEGE  INCOME  OVERAGE  LEFTOVER   HOUSE  HANDSET_PRICE  \\\n",
       "0     one  142806      202         0  264371            562   \n",
       "1    zero   41532       66        45  619188            190   \n",
       "2    zero   51919      191        61  986348            355   \n",
       "3     one   32732        0         0  255165            301   \n",
       "4    zero   40412        0         0  246803            239   \n",
       "\n",
       "   OVER_15MINS_CALLS_PER_MONTH  AVERAGE_CALL_DURATION REPORTED_SATISFACTION  \\\n",
       "0                           29                     13            very_unsat   \n",
       "1                            3                      2                 unsat   \n",
       "2                           21                      1                   avg   \n",
       "3                            1                     10                   avg   \n",
       "4                           26                      8            very_unsat   \n",
       "\n",
       "  REPORTED_USAGE_LEVEL CONSIDERING_CHANGE_OF_PLAN  \n",
       "0          very_little   actively_looking_into_it  \n",
       "1                 high   actively_looking_into_it  \n",
       "2          very_little                         no  \n",
       "3            very_high                considering  \n",
       "4               little                    perhaps  "
      ]
     },
     "execution_count": 30,
     "metadata": {},
     "output_type": "execute_result"
    }
   ],
   "source": [
    "test_data.head()"
   ]
  },
  {
   "cell_type": "code",
   "execution_count": 31,
   "metadata": {
    "ExecuteTime": {
     "end_time": "2019-03-30T17:13:46.689387Z",
     "start_time": "2019-03-30T17:13:46.668549Z"
    }
   },
   "outputs": [],
   "source": [
    "test_data['COLLEGE']                    = test_data['COLLEGE'].map(mapCOLLEGE)\n",
    "test_data['REPORTED_SATISFACTION']      = test_data['REPORTED_SATISFACTION'].map(mapREPORTED_SATISFACTION)\n",
    "test_data['REPORTED_USAGE_LEVEL']       = test_data['REPORTED_USAGE_LEVEL'].map(mapREPORTED_USAGE_LEVEL)\n",
    "test_data['CONSIDERING_CHANGE_OF_PLAN'] = test_data['CONSIDERING_CHANGE_OF_PLAN'].map(mapCONSIDERING_CHANGE_OF_PLAN)"
   ]
  },
  {
   "cell_type": "code",
   "execution_count": 32,
   "metadata": {
    "ExecuteTime": {
     "end_time": "2019-03-30T17:13:47.006499Z",
     "start_time": "2019-03-30T17:13:46.983801Z"
    }
   },
   "outputs": [
    {
     "data": {
      "text/html": [
       "<div>\n",
       "<style scoped>\n",
       "    .dataframe tbody tr th:only-of-type {\n",
       "        vertical-align: middle;\n",
       "    }\n",
       "\n",
       "    .dataframe tbody tr th {\n",
       "        vertical-align: top;\n",
       "    }\n",
       "\n",
       "    .dataframe thead th {\n",
       "        text-align: right;\n",
       "    }\n",
       "</style>\n",
       "<table border=\"1\" class=\"dataframe\">\n",
       "  <thead>\n",
       "    <tr style=\"text-align: right;\">\n",
       "      <th></th>\n",
       "      <th>COLLEGE</th>\n",
       "      <th>INCOME</th>\n",
       "      <th>OVERAGE</th>\n",
       "      <th>LEFTOVER</th>\n",
       "      <th>HOUSE</th>\n",
       "      <th>HANDSET_PRICE</th>\n",
       "      <th>OVER_15MINS_CALLS_PER_MONTH</th>\n",
       "      <th>AVERAGE_CALL_DURATION</th>\n",
       "      <th>REPORTED_SATISFACTION</th>\n",
       "      <th>REPORTED_USAGE_LEVEL</th>\n",
       "      <th>CONSIDERING_CHANGE_OF_PLAN</th>\n",
       "    </tr>\n",
       "  </thead>\n",
       "  <tbody>\n",
       "    <tr>\n",
       "      <th>0</th>\n",
       "      <td>1</td>\n",
       "      <td>142806</td>\n",
       "      <td>202</td>\n",
       "      <td>0</td>\n",
       "      <td>264371</td>\n",
       "      <td>562</td>\n",
       "      <td>29</td>\n",
       "      <td>13</td>\n",
       "      <td>4</td>\n",
       "      <td>4</td>\n",
       "      <td>4</td>\n",
       "    </tr>\n",
       "    <tr>\n",
       "      <th>1</th>\n",
       "      <td>0</td>\n",
       "      <td>41532</td>\n",
       "      <td>66</td>\n",
       "      <td>45</td>\n",
       "      <td>619188</td>\n",
       "      <td>190</td>\n",
       "      <td>3</td>\n",
       "      <td>2</td>\n",
       "      <td>3</td>\n",
       "      <td>1</td>\n",
       "      <td>4</td>\n",
       "    </tr>\n",
       "    <tr>\n",
       "      <th>2</th>\n",
       "      <td>0</td>\n",
       "      <td>51919</td>\n",
       "      <td>191</td>\n",
       "      <td>61</td>\n",
       "      <td>986348</td>\n",
       "      <td>355</td>\n",
       "      <td>21</td>\n",
       "      <td>1</td>\n",
       "      <td>2</td>\n",
       "      <td>4</td>\n",
       "      <td>1</td>\n",
       "    </tr>\n",
       "    <tr>\n",
       "      <th>3</th>\n",
       "      <td>1</td>\n",
       "      <td>32732</td>\n",
       "      <td>0</td>\n",
       "      <td>0</td>\n",
       "      <td>255165</td>\n",
       "      <td>301</td>\n",
       "      <td>1</td>\n",
       "      <td>10</td>\n",
       "      <td>2</td>\n",
       "      <td>0</td>\n",
       "      <td>2</td>\n",
       "    </tr>\n",
       "    <tr>\n",
       "      <th>4</th>\n",
       "      <td>0</td>\n",
       "      <td>40412</td>\n",
       "      <td>0</td>\n",
       "      <td>0</td>\n",
       "      <td>246803</td>\n",
       "      <td>239</td>\n",
       "      <td>26</td>\n",
       "      <td>8</td>\n",
       "      <td>4</td>\n",
       "      <td>3</td>\n",
       "      <td>3</td>\n",
       "    </tr>\n",
       "  </tbody>\n",
       "</table>\n",
       "</div>"
      ],
      "text/plain": [
       "   COLLEGE  INCOME  OVERAGE  LEFTOVER   HOUSE  HANDSET_PRICE  \\\n",
       "0        1  142806      202         0  264371            562   \n",
       "1        0   41532       66        45  619188            190   \n",
       "2        0   51919      191        61  986348            355   \n",
       "3        1   32732        0         0  255165            301   \n",
       "4        0   40412        0         0  246803            239   \n",
       "\n",
       "   OVER_15MINS_CALLS_PER_MONTH  AVERAGE_CALL_DURATION  REPORTED_SATISFACTION  \\\n",
       "0                           29                     13                      4   \n",
       "1                            3                      2                      3   \n",
       "2                           21                      1                      2   \n",
       "3                            1                     10                      2   \n",
       "4                           26                      8                      4   \n",
       "\n",
       "   REPORTED_USAGE_LEVEL  CONSIDERING_CHANGE_OF_PLAN  \n",
       "0                     4                           4  \n",
       "1                     1                           4  \n",
       "2                     4                           1  \n",
       "3                     0                           2  \n",
       "4                     3                           3  "
      ]
     },
     "execution_count": 32,
     "metadata": {},
     "output_type": "execute_result"
    }
   ],
   "source": [
    "test_data.head()"
   ]
  },
  {
   "cell_type": "code",
   "execution_count": 34,
   "metadata": {
    "ExecuteTime": {
     "end_time": "2019-03-30T17:13:53.123502Z",
     "start_time": "2019-03-30T17:13:53.117243Z"
    }
   },
   "outputs": [
    {
     "name": "stderr",
     "output_type": "stream",
     "text": [
      "/usr/local/lib/python3.6/dist-packages/ipykernel_launcher.py:1: DataConversionWarning: Data with input dtype int64 were all converted to float64 by StandardScaler.\n",
      "  \"\"\"Entry point for launching an IPython kernel.\n"
     ]
    },
    {
     "data": {
      "text/plain": [
       "array([[ 0.99504496,  1.49402537,  1.35225375, ...,  0.95628815,\n",
       "         1.19512501,  1.45002767],\n",
       "       [-1.00497972, -0.93006822, -0.23042825, ...,  0.34294886,\n",
       "        -0.78503013,  1.45002767],\n",
       "       [-1.00497972, -0.68144508,  1.2242427 , ..., -0.27039043,\n",
       "         1.19512501, -0.90028909],\n",
       "       ...,\n",
       "       [-1.00497972, -0.04450835, -0.99849451, ...,  0.34294886,\n",
       "        -1.44508184, -0.11685017],\n",
       "       [-1.00497972, -0.04103763, -0.45153823, ...,  0.95628815,\n",
       "         0.53507329, -0.11685017],\n",
       "       [-1.00497972,  1.0605685 , -0.99849451, ...,  0.34294886,\n",
       "        -0.78503013,  1.45002767]])"
      ]
     },
     "execution_count": 34,
     "metadata": {},
     "output_type": "execute_result"
    }
   ],
   "source": [
    "test_data_std = stdsc.transform(test_data)\n",
    "test_data_std"
   ]
  },
  {
   "cell_type": "code",
   "execution_count": 35,
   "metadata": {
    "ExecuteTime": {
     "end_time": "2019-03-30T17:13:53.818840Z",
     "start_time": "2019-03-30T17:13:53.811186Z"
    }
   },
   "outputs": [],
   "source": [
    "test_predictions = tree.predict(test_data_std[:,1:5])"
   ]
  },
  {
   "cell_type": "code",
   "execution_count": 36,
   "metadata": {
    "ExecuteTime": {
     "end_time": "2019-03-30T17:14:06.839894Z",
     "start_time": "2019-03-30T17:14:06.835543Z"
    }
   },
   "outputs": [
    {
     "data": {
      "text/plain": [
       "array([0, 1, 1, ..., 0, 0, 1])"
      ]
     },
     "execution_count": 36,
     "metadata": {},
     "output_type": "execute_result"
    }
   ],
   "source": [
    "test_predictions"
   ]
  }
 ],
 "metadata": {
  "colab": {
   "collapsed_sections": [],
   "default_view": {},
   "name": "HW2_Kaggle.ipynb",
   "provenance": [],
   "version": "0.3.2",
   "views": {}
  },
  "kernelspec": {
   "display_name": "Python 3",
   "language": "python",
   "name": "python3"
  },
  "language_info": {
   "codemirror_mode": {
    "name": "ipython",
    "version": 3
   },
   "file_extension": ".py",
   "mimetype": "text/x-python",
   "name": "python",
   "nbconvert_exporter": "python",
   "pygments_lexer": "ipython3",
   "version": "3.6.7"
  },
  "toc": {
   "nav_menu": {},
   "number_sections": true,
   "sideBar": true,
   "skip_h1_title": false,
   "toc_cell": false,
   "toc_position": {},
   "toc_section_display": "block",
   "toc_window_display": false
  },
  "varInspector": {
   "cols": {
    "lenName": 16,
    "lenType": 16,
    "lenVar": 40
   },
   "kernels_config": {
    "python": {
     "delete_cmd_postfix": "",
     "delete_cmd_prefix": "del ",
     "library": "var_list.py",
     "varRefreshCmd": "print(var_dic_list())"
    },
    "r": {
     "delete_cmd_postfix": ") ",
     "delete_cmd_prefix": "rm(",
     "library": "var_list.r",
     "varRefreshCmd": "cat(var_dic_list()) "
    }
   },
   "types_to_exclude": [
    "module",
    "function",
    "builtin_function_or_method",
    "instance",
    "_Feature"
   ],
   "window_display": false
  }
 },
 "nbformat": 4,
 "nbformat_minor": 2
}
